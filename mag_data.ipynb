{
 "cells": [
  {
   "cell_type": "code",
   "execution_count": 2,
   "metadata": {},
   "outputs": [],
   "source": [
    "import os\n",
    "import glob\n",
    "import pandas as pd\n",
    "import plotly.express as px\n",
    "import plotly.graph_objects as go\n",
    "from plotly.subplots import make_subplots"
   ]
  },
  {
   "cell_type": "code",
   "execution_count": 6,
   "metadata": {},
   "outputs": [],
   "source": [
    "def get_mag_data(outcar_path='OUTCAR'):\n",
    "    if not os.path.isfile(outcar_path):\n",
    "        print(f\"Warning: File {outcar_path} does not exist. Skipping.\")\n",
    "        return None\n",
    "    with open(outcar_path, 'r') as file:\n",
    "        data = []\n",
    "        step = 0\n",
    "        found_mag_data = False\n",
    "        data_start = False\n",
    "        lines = file.readlines()\n",
    "        for line in lines:\n",
    "            if 'magnetization (x)' in line:\n",
    "                found_mag_data = True\n",
    "                step += 1\n",
    "            elif found_mag_data and not data_start and '----' in line:\n",
    "                data_start = True\n",
    "            elif data_start and '----' not in line:\n",
    "                ion = int(line.split()[0])\n",
    "                s = float(line.split()[1])\n",
    "                p = float(line.split()[2])\n",
    "                d = float(line.split()[3])\n",
    "                tot = float(line.split()[4])\n",
    "                data.append((step, ion, s, p, d, tot))\n",
    "            elif data_start and '----' in line:\n",
    "                data_start = False\n",
    "                found_mag_data = False\n",
    "        df = pd.DataFrame(data, columns=['step', '# of ion', 's', 'p', 'd', 'tot'])\n",
    "        return df"
   ]
  },
  {
   "cell_type": "code",
   "execution_count": 8,
   "metadata": {},
   "outputs": [
    {
     "data": {
      "text/html": [
       "<div>\n",
       "<style scoped>\n",
       "    .dataframe tbody tr th:only-of-type {\n",
       "        vertical-align: middle;\n",
       "    }\n",
       "\n",
       "    .dataframe tbody tr th {\n",
       "        vertical-align: top;\n",
       "    }\n",
       "\n",
       "    .dataframe thead th {\n",
       "        text-align: right;\n",
       "    }\n",
       "</style>\n",
       "<table border=\"1\" class=\"dataframe\">\n",
       "  <thead>\n",
       "    <tr style=\"text-align: right;\">\n",
       "      <th></th>\n",
       "      <th>step</th>\n",
       "      <th># of ion</th>\n",
       "      <th>s</th>\n",
       "      <th>p</th>\n",
       "      <th>d</th>\n",
       "      <th>tot</th>\n",
       "    </tr>\n",
       "  </thead>\n",
       "  <tbody>\n",
       "    <tr>\n",
       "      <th>0</th>\n",
       "      <td>1</td>\n",
       "      <td>1</td>\n",
       "      <td>-0.004</td>\n",
       "      <td>-0.047</td>\n",
       "      <td>2.826</td>\n",
       "      <td>2.775</td>\n",
       "    </tr>\n",
       "    <tr>\n",
       "      <th>1</th>\n",
       "      <td>1</td>\n",
       "      <td>2</td>\n",
       "      <td>-0.004</td>\n",
       "      <td>-0.047</td>\n",
       "      <td>2.826</td>\n",
       "      <td>2.775</td>\n",
       "    </tr>\n",
       "    <tr>\n",
       "      <th>2</th>\n",
       "      <td>2</td>\n",
       "      <td>1</td>\n",
       "      <td>-0.004</td>\n",
       "      <td>-0.047</td>\n",
       "      <td>2.826</td>\n",
       "      <td>2.775</td>\n",
       "    </tr>\n",
       "    <tr>\n",
       "      <th>3</th>\n",
       "      <td>2</td>\n",
       "      <td>2</td>\n",
       "      <td>-0.004</td>\n",
       "      <td>-0.047</td>\n",
       "      <td>2.826</td>\n",
       "      <td>2.775</td>\n",
       "    </tr>\n",
       "  </tbody>\n",
       "</table>\n",
       "</div>"
      ],
      "text/plain": [
       "   step  # of ion      s      p      d    tot\n",
       "0     1         1 -0.004 -0.047  2.826  2.775\n",
       "1     1         2 -0.004 -0.047  2.826  2.775\n",
       "2     2         1 -0.004 -0.047  2.826  2.775\n",
       "3     2         2 -0.004 -0.047  2.826  2.775"
      ]
     },
     "execution_count": 8,
     "metadata": {},
     "output_type": "execute_result"
    }
   ],
   "source": [
    "#change the path to the OUTCAR file path\n",
    "get_mag_data('/storage/home/lam7027/work/Fe/vol_2/OUTCAR.3static')"
   ]
  },
  {
   "cell_type": "code",
   "execution_count": 32,
   "metadata": {},
   "outputs": [],
   "source": [
    "def get_simple_mag_data(ion_list, outcar_path='OUTCAR'):\n",
    "    all_mag_data = get_mag_data(outcar_path)\n",
    "    last_step_data = all_mag_data[all_mag_data['step'] == all_mag_data['step'].max()]\n",
    "    simple_data = last_step_data[last_step_data['# of ion'].isin(ion_list)][['# of ion', 'tot']]\n",
    "    simple_data.reset_index(drop=True, inplace=True)\n",
    "    return simple_data\n",
    "\n",
    "    \n",
    "    "
   ]
  },
  {
   "cell_type": "code",
   "execution_count": 34,
   "metadata": {},
   "outputs": [
    {
     "data": {
      "text/html": [
       "<div>\n",
       "<style scoped>\n",
       "    .dataframe tbody tr th:only-of-type {\n",
       "        vertical-align: middle;\n",
       "    }\n",
       "\n",
       "    .dataframe tbody tr th {\n",
       "        vertical-align: top;\n",
       "    }\n",
       "\n",
       "    .dataframe thead th {\n",
       "        text-align: right;\n",
       "    }\n",
       "</style>\n",
       "<table border=\"1\" class=\"dataframe\">\n",
       "  <thead>\n",
       "    <tr style=\"text-align: right;\">\n",
       "      <th></th>\n",
       "      <th># of ion</th>\n",
       "      <th>tot</th>\n",
       "    </tr>\n",
       "  </thead>\n",
       "  <tbody>\n",
       "    <tr>\n",
       "      <th>0</th>\n",
       "      <td>1</td>\n",
       "      <td>2.775</td>\n",
       "    </tr>\n",
       "  </tbody>\n",
       "</table>\n",
       "</div>"
      ],
      "text/plain": [
       "   # of ion    tot\n",
       "0         1  2.775"
      ]
     },
     "execution_count": 34,
     "metadata": {},
     "output_type": "execute_result"
    }
   ],
   "source": [
    "# change the path to the OUTCAR file path\n",
    "get_simple_mag_data([1], '/storage/home/lam7027/work/Fe/vol_2/OUTCAR.3static')"
   ]
  },
  {
   "cell_type": "code",
   "execution_count": null,
   "metadata": {},
   "outputs": [],
   "source": []
  }
 ],
 "metadata": {
  "kernelspec": {
   "display_name": "vasp",
   "language": "python",
   "name": "vasp"
  },
  "language_info": {
   "codemirror_mode": {
    "name": "ipython",
    "version": 3
   },
   "file_extension": ".py",
   "mimetype": "text/x-python",
   "name": "python",
   "nbconvert_exporter": "python",
   "pygments_lexer": "ipython3",
   "version": "3.11.5"
  }
 },
 "nbformat": 4,
 "nbformat_minor": 2
}
