{
 "cells": [
  {
   "cell_type": "markdown",
   "metadata": {},
   "source": [
    "## Before starting this tutorial\n",
    "- Install DFTTK: https://github.com/PhasesResearchLab/dfttk\n",
    "- Install YPHON: https://github.com/PhasesResearchLab/YPHON \n",
    "- Follow the POTCAR setup for pymatgen: https://pymatgen.org/installation.html#potcar-setup"
   ]
  },
  {
   "cell_type": "markdown",
   "metadata": {},
   "source": [
    "## Import neccessary libraries"
   ]
  },
  {
   "cell_type": "code",
   "execution_count": null,
   "metadata": {},
   "outputs": [],
   "source": [
    "# Enable automatic reloading of modules\n",
    "%reload_ext autoreload\n",
    "%autoreload 2\n",
    "\n",
    "# Standard Library Imports\n",
    "import os\n",
    "import subprocess\n",
    "\n",
    "# Third-Party Library Imports\n",
    "import numpy as np\n",
    "import plotly.graph_objects as go\n",
    "\n",
    "# DFTTK Imports\n",
    "from dfttk.config import Configuration\n",
    "from dfttk.plotly_format import plot_format"
   ]
  },
  {
   "cell_type": "markdown",
   "metadata": {},
   "source": [
    "## Convergence tests"
   ]
  },
  {
   "cell_type": "markdown",
   "metadata": {},
   "source": [
    "Create a folder to run the volume relaxation. We will use the relaxed structure for our convergence tests."
   ]
  },
  {
   "cell_type": "code",
   "execution_count": null,
   "metadata": {},
   "outputs": [],
   "source": [
    "path = \"conv_test/volume_relax\"\n",
    "os.makedirs(path, exist_ok=True)"
   ]
  },
  {
   "cell_type": "markdown",
   "metadata": {},
   "source": [
    "Copy the `POSCAR` file to the volume relaxation folder."
   ]
  },
  {
   "cell_type": "code",
   "execution_count": null,
   "metadata": {},
   "outputs": [],
   "source": [
    "subprocess.run([\"cp\", \"POSCAR\", path])"
   ]
  },
  {
   "cell_type": "markdown",
   "metadata": {},
   "source": [
    "Create and configure the Configuration object. "
   ]
  },
  {
   "cell_type": "code",
   "execution_count": null,
   "metadata": {},
   "outputs": [],
   "source": [
    "config_Al = Configuration(path, \"config_Al\")\n",
    "config_Al.set_vasp_cmd([\"mpirun\", \"/opt/packages/VASP/VASP6/6.4.3/ONEAPI/vasp_std\"])"
   ]
  },
  {
   "cell_type": "markdown",
   "metadata": {},
   "source": [
    "Configure the `job script` for volume relaxation. This example is based on the Bridges-2 supercomputer at the Pittsburgh Supercomputing Center (PSC)."
   ]
  },
  {
   "cell_type": "code",
   "execution_count": null,
   "metadata": {},
   "outputs": [],
   "source": [
    "config_Al.read_job_script(\"bridges2\")\n",
    "config_Al.modify_job_script(\"commands\", None, position=9, action=\"remove\")\n",
    "vasp_cmd = \" \".join(config_Al.vasp_cmd)\n",
    "config_Al.modify_job_script(\"commands\", f\"{vasp_cmd}\", position=9, action=\"add\")\n",
    "config_Al.write_job_script()"
   ]
  },
  {
   "cell_type": "markdown",
   "metadata": {},
   "source": [
    "🚀 Run the volume relaxation."
   ]
  },
  {
   "cell_type": "code",
   "execution_count": null,
   "metadata": {},
   "outputs": [],
   "source": [
    "config_Al.run_volume_relax(material_type=\"metal\")"
   ]
  },
  {
   "cell_type": "markdown",
   "metadata": {},
   "source": [
    "⏳ After the job has finished, copy the relaxed `CONTCAR` file to the directory above. We will use this for the convergence tests."
   ]
  },
  {
   "cell_type": "code",
   "execution_count": null,
   "metadata": {},
   "outputs": [],
   "source": [
    "subprocess.run([\"cp\", \"CONTCAR\", \"../POSCAR\"], cwd=path)"
   ]
  },
  {
   "cell_type": "markdown",
   "metadata": {},
   "source": [
    "Update the configuration path and write the `job script` for the convergence tests."
   ]
  },
  {
   "cell_type": "code",
   "execution_count": null,
   "metadata": {},
   "outputs": [],
   "source": [
    "config_Al.path = \"conv_test\"\n",
    "config_Al.read_job_script(\"bridges2\")\n",
    "config_Al.write_job_script()"
   ]
  },
  {
   "cell_type": "markdown",
   "metadata": {},
   "source": [
    "🚀 Run the convergence tests."
   ]
  },
  {
   "cell_type": "code",
   "execution_count": null,
   "metadata": {},
   "outputs": [],
   "source": [
    "config_Al.run_conv_test()"
   ]
  },
  {
   "cell_type": "markdown",
   "metadata": {},
   "source": [
    "⏳ After the jobs have finished, analyze the convergence of the total energy with respect to the cutoff energy (ENCUT)."
   ]
  },
  {
   "cell_type": "code",
   "execution_count": null,
   "metadata": {},
   "outputs": [],
   "source": [
    "encut_conv_df, fig = config_Al.analyze_encut_conv()\n",
    "encut_conv_df"
   ]
  },
  {
   "cell_type": "markdown",
   "metadata": {},
   "source": [
    "Analyze the convergence of the total energy with respect to the k-point mesh per reciprocal atom (KPPA)."
   ]
  },
  {
   "cell_type": "code",
   "execution_count": null,
   "metadata": {},
   "outputs": [],
   "source": [
    "kpoints_conv_df, fig = config_Al.analyze_kpoints_conv()\n",
    "kpoints_conv_df"
   ]
  },
  {
   "cell_type": "markdown",
   "metadata": {},
   "source": [
    "Based on the results, we select `ENCUT = 520 eV` and `kppa = 4000`, as the energy difference compared to the previous values is below 1 meV/atom, ensuring sufficient accuracy."
   ]
  },
  {
   "cell_type": "markdown",
   "metadata": {},
   "source": [
    "## Energy-volume curve"
   ]
  },
  {
   "cell_type": "markdown",
   "metadata": {},
   "source": [
    "Create a folder called config_Al."
   ]
  },
  {
   "cell_type": "code",
   "execution_count": null,
   "metadata": {},
   "outputs": [],
   "source": [
    "os.makedirs(\"config_Al\", exist_ok=True)"
   ]
  },
  {
   "cell_type": "markdown",
   "metadata": {},
   "source": [
    "Copy the `POSCAR` file to the config_Al folder."
   ]
  },
  {
   "cell_type": "code",
   "execution_count": null,
   "metadata": {},
   "outputs": [],
   "source": [
    "subprocess.run([\"cp\", \"POSCAR\", \"config_Al\"])"
   ]
  },
  {
   "cell_type": "markdown",
   "metadata": {},
   "source": [
    "Define the path to the config_Al folder and create a Configuration object."
   ]
  },
  {
   "cell_type": "code",
   "execution_count": null,
   "metadata": {},
   "outputs": [],
   "source": [
    "path = \"config_Al\"\n",
    "config_Al = Configuration(path, \"Al\")"
   ]
  },
  {
   "cell_type": "markdown",
   "metadata": {},
   "source": [
    "Write the `job script` for the energy-volume curve jobs."
   ]
  },
  {
   "cell_type": "code",
   "execution_count": null,
   "metadata": {},
   "outputs": [],
   "source": [
    "config_Al.set_vasp_cmd([\"mpirun\", \"/opt/packages/VASP/VASP6/6.4.3/ONEAPI/vasp_std\"])\n",
    "config_Al.read_job_script(\"bridges2\")\n",
    "config_Al.write_job_script()"
   ]
  },
  {
   "cell_type": "markdown",
   "metadata": {},
   "source": [
    "Configure the energy-volume settings"
   ]
  },
  {
   "cell_type": "code",
   "execution_count": null,
   "metadata": {},
   "outputs": [],
   "source": [
    "volumes = [74, 72, 70, 68, 66, 64, 62, 60]\n",
    "material_type = \"metal\"\n",
    "encut = 520\n",
    "kppa = 4001\n",
    "config_Al.ev_curves_settings(material_type=material_type, volumes=volumes, encut=encut, kppa=kppa)"
   ]
  },
  {
   "cell_type": "markdown",
   "metadata": {},
   "source": [
    "🚀 Execute the energy-volume curve calculations for the chosen volumes."
   ]
  },
  {
   "cell_type": "code",
   "execution_count": null,
   "metadata": {},
   "outputs": [],
   "source": [
    "config_Al.run_ev_curves()"
   ]
  },
  {
   "cell_type": "markdown",
   "metadata": {},
   "source": [
    "⏳ After the job has finished, process the results of the energy-volume curves."
   ]
  },
  {
   "cell_type": "code",
   "execution_count": null,
   "metadata": {},
   "outputs": [],
   "source": [
    "config_Al.process_ev_curves()"
   ]
  },
  {
   "cell_type": "markdown",
   "metadata": {},
   "source": [
    "Plot the energy-volume curve."
   ]
  },
  {
   "cell_type": "code",
   "execution_count": null,
   "metadata": {},
   "outputs": [],
   "source": [
    "fig = config_Al.ev_curves.plot()"
   ]
  },
  {
   "cell_type": "markdown",
   "metadata": {},
   "source": [
    "Examine and analyze the EOS parameters."
   ]
  },
  {
   "cell_type": "code",
   "execution_count": null,
   "metadata": {},
   "outputs": [],
   "source": [
    "config_Al.ev_curves.eos_parameters"
   ]
  },
  {
   "cell_type": "markdown",
   "metadata": {},
   "source": [
    "## Phonons"
   ]
  },
  {
   "cell_type": "markdown",
   "metadata": {},
   "source": [
    "Re-write the `job script` for the phonon calculations if needed."
   ]
  },
  {
   "cell_type": "code",
   "execution_count": null,
   "metadata": {},
   "outputs": [],
   "source": [
    "config_Al.read_job_script(\"bridges2\")\n",
    "config_Al.modify_job_script(\"commands\", None, position=9, action=\"remove\")\n",
    "config_Al.write_job_script()"
   ]
  },
  {
   "cell_type": "markdown",
   "metadata": {},
   "source": [
    "Configure the phonon settings."
   ]
  },
  {
   "cell_type": "code",
   "execution_count": null,
   "metadata": {},
   "outputs": [],
   "source": [
    "phonon_volumes = [74, 72, 70, 68, 66, 64, 62, 60]\n",
    "scaling_matrix = ((2, 0, 0), (0, 2, 0), (0, 0, 2))\n",
    "kppa = 4001\n",
    "relax = False\n",
    "\n",
    "config_Al.phonons_settings(phonon_volumes=phonon_volumes, kppa=kppa, scaling_matrix=scaling_matrix, relax=relax)"
   ]
  },
  {
   "cell_type": "markdown",
   "metadata": {},
   "source": [
    "🚀 Run the phonon calculations in parallel."
   ]
  },
  {
   "cell_type": "code",
   "execution_count": null,
   "metadata": {},
   "outputs": [],
   "source": [
    "config_Al.run_phonons()"
   ]
  },
  {
   "cell_type": "markdown",
   "metadata": {},
   "source": [
    "⏳ After the jobs have finished, generate the phonon DOS using YPHON in each phonon_folder and store all the results in YPHON_results."
   ]
  },
  {
   "cell_type": "code",
   "execution_count": null,
   "metadata": {},
   "outputs": [],
   "source": [
    "config_Al.generate_phonon_dos()"
   ]
  },
  {
   "cell_type": "markdown",
   "metadata": {},
   "source": [
    "Using the phonon DOS, calculate the harmonic properties."
   ]
  },
  {
   "cell_type": "code",
   "execution_count": null,
   "metadata": {},
   "outputs": [],
   "source": [
    "number_of_atoms = 4\n",
    "temperatures = np.arange(0, 1010, 10)\n",
    "config_Al.process_phonons(number_of_atoms, temperatures)"
   ]
  },
  {
   "cell_type": "markdown",
   "metadata": {},
   "source": [
    "Plot both the original and scaled phonon DOS. The scaled phonon DOS is adjusted to the number of atoms, N, that you specify. YPHON scales the area under the phonon DOS curve to 3N."
   ]
  },
  {
   "cell_type": "code",
   "execution_count": null,
   "metadata": {},
   "outputs": [],
   "source": [
    "config_Al.phonons.plot_scaled_dos(number_of_atoms=4)"
   ]
  },
  {
   "cell_type": "markdown",
   "metadata": {},
   "source": [
    "Plot the scaled phonon DOS for multiple volumes together."
   ]
  },
  {
   "cell_type": "code",
   "execution_count": null,
   "metadata": {},
   "outputs": [],
   "source": [
    "config_Al.phonons.plot_multiple_dos(number_of_atoms=4)"
   ]
  },
  {
   "cell_type": "markdown",
   "metadata": {},
   "source": [
    "Plot the harmonic properties."
   ]
  },
  {
   "cell_type": "code",
   "execution_count": null,
   "metadata": {},
   "outputs": [],
   "source": [
    "# Plot helmholtz_energy, entropy, or heat_capacity\n",
    "fig_phonons_t, fig_phonons_v = config_Al.phonons.plot_harmonic(\"helmholtz_energy\")"
   ]
  },
  {
   "cell_type": "markdown",
   "metadata": {},
   "source": [
    "## Debye-Grüneisen model"
   ]
  },
  {
   "cell_type": "markdown",
   "metadata": {},
   "source": [
    "Calculate the vibrational contribution to the helmholtz energy, entropy, and heat capacity using the Debye model."
   ]
  },
  {
   "cell_type": "code",
   "execution_count": null,
   "metadata": {},
   "outputs": [],
   "source": [
    "temperatures = np.arange(0, 1010, 10)\n",
    "config_Al.process_debye(scaling_factor=0.617, gruneisen_x=2/3, temperatures=temperatures)"
   ]
  },
  {
   "cell_type": "markdown",
   "metadata": {},
   "source": [
    "Plot the Debye properties."
   ]
  },
  {
   "cell_type": "code",
   "execution_count": null,
   "metadata": {},
   "outputs": [],
   "source": [
    "# Plot helmholtz_energy, entropy, or heat_capacity\n",
    "fig_debye_t, fig_debye_v = config_Al.debye.plot(\"helmholtz_energy\")"
   ]
  },
  {
   "cell_type": "markdown",
   "metadata": {},
   "source": [
    "## Thermal electronic contribution"
   ]
  },
  {
   "cell_type": "markdown",
   "metadata": {},
   "source": [
    "Configure the thermal electronic settings"
   ]
  },
  {
   "cell_type": "code",
   "execution_count": null,
   "metadata": {},
   "outputs": [],
   "source": [
    "volumes = [74, 72, 70, 68, 66, 64, 62, 60]\n",
    "scaling_matrix = ((1, 0, 0), (0, 1, 0), (0, 0, 1))\n",
    "kppa = 4001\n",
    "config_Al.thermal_electronic_settings(volumes=volumes, kppa=kppa, scaling_matrix=scaling_matrix)"
   ]
  },
  {
   "cell_type": "markdown",
   "metadata": {},
   "source": [
    "🚀 Run the thermal electronic jobs in parallel."
   ]
  },
  {
   "cell_type": "code",
   "execution_count": null,
   "metadata": {},
   "outputs": [],
   "source": [
    "config_Al.run_thermal_electronic()"
   ]
  },
  {
   "cell_type": "markdown",
   "metadata": {},
   "source": [
    "⏳ After the jobs have finished, calculate the thermal electronic properties."
   ]
  },
  {
   "cell_type": "code",
   "execution_count": null,
   "metadata": {},
   "outputs": [],
   "source": [
    "temperatures = np.arange(0, 1010, 10)\n",
    "config_Al.process_thermal_electronic(temperatures)"
   ]
  },
  {
   "cell_type": "markdown",
   "metadata": {},
   "source": [
    "Plot the thermal electronic properties."
   ]
  },
  {
   "cell_type": "code",
   "execution_count": null,
   "metadata": {},
   "outputs": [],
   "source": [
    "# Plot helmholtz_energy, entropy, or heat_capacity\n",
    "fig_thermal_electronic_t, fig_thermal_electronic_v = config_Al.thermal_electronic.plot(\"helmholtz_energy\")"
   ]
  },
  {
   "cell_type": "markdown",
   "metadata": {},
   "source": [
    "## Quasiharmonic Approximation"
   ]
  },
  {
   "cell_type": "markdown",
   "metadata": {},
   "source": [
    "Calculate the quasi-harmonic properties using multiple methods: debye, debye_thermal_electronic, phonons, and phonons_thermal_electronic."
   ]
  },
  {
   "cell_type": "code",
   "execution_count": null,
   "metadata": {},
   "outputs": [],
   "source": [
    "volume_range = np.linspace(0.98*60, 1.02*74, 1000)\n",
    "config_Al.process_qha(\"debye\", volume_range, P = 0)\n",
    "config_Al.process_qha(\"debye_thermal_electronic\", volume_range, P = 0)\n",
    "config_Al.process_qha(\"phonons\", volume_range, P = 0)\n",
    "config_Al.process_qha(\"phonons_thermal_electronic\", volume_range, P = 0)"
   ]
  },
  {
   "cell_type": "code",
   "execution_count": null,
   "metadata": {},
   "outputs": [],
   "source": [
    "# Plot helmholtz_energy_pv, volume, cte, entropy, heat_capacity, enthalpy, bulk_modulus, gibbs_energy\n",
    "fig_qha = config_Al.qha.plot(\"phonons_thermal_electronic\", P = 0, plot_type=\"helmholtz_energy_pv\")"
   ]
  },
  {
   "cell_type": "markdown",
   "metadata": {},
   "source": [
    "## Comparison with Experiments"
   ]
  },
  {
   "cell_type": "code",
   "execution_count": null,
   "metadata": {},
   "outputs": [],
   "source": [
    "def add_trace(fig, x, y, mode, name, color, dash=None, symbol=None):\n",
    "    \"\"\"Helper function to add a trace to the figure.\"\"\"\n",
    "    trace = go.Scatter(\n",
    "        x=x,\n",
    "        y=y,\n",
    "        mode=mode,\n",
    "        name=name,\n",
    "        line=dict(color=color, dash=dash) if dash else dict(color=color),\n",
    "        marker=dict(symbol=symbol, color=color) if symbol else None,\n",
    "    )\n",
    "    fig.add_trace(trace)"
   ]
  },
  {
   "cell_type": "markdown",
   "metadata": {},
   "source": [
    "C<sub>p</sub> vs. T"
   ]
  },
  {
   "cell_type": "code",
   "execution_count": null,
   "metadata": {},
   "outputs": [],
   "source": [
    "# Initialize figure\n",
    "fig = go.Figure()\n",
    "temperature = config_Al.qha.temperatures\n",
    "\n",
    "# Ref: https://janaf.nist.gov/tables/Al-001.html\n",
    "T_janaf = np.array([0, 100, 200, 298.15, 300, 400, 500, 600, 700, 800, 900])  # K\n",
    "Cp_janaf = np.array([0, 12.997, 21.338, 24.209, 24.247, 25.784, 26.842, 27.886, 29.100, 30.562, 32.308])  # J/mol/K\n",
    "add_trace(fig, T_janaf, Cp_janaf, mode=\"markers\", name=\"Janaf\", color=\"black\", symbol=\"circle-open\")\n",
    "\n",
    "# Data from calculations\n",
    "methods = {\n",
    "    \"Ph+El\": {\n",
    "        \"data\": config_Al.qha.methods[\"phonons_thermal_electronic\"][0][\"quasi_harmonic_df\"][\"Cp\"],\n",
    "        \"color\": \"#EF553B\",\n",
    "        \"dash\": \"dash\",\n",
    "    },\n",
    "    \"Ph\": {\n",
    "        \"data\": config_Al.qha.methods[\"phonons\"][0][\"quasi_harmonic_df\"][\"Cp\"],\n",
    "        \"color\": \"#636EFA\",\n",
    "    },\n",
    "    \"Debye+El\": {\n",
    "        \"data\": config_Al.qha.methods[\"debye_thermal_electronic\"][0][\"quasi_harmonic_df\"][\"Cp\"],\n",
    "        \"color\": \"#AB63FA\",\n",
    "        \"dash\": \"dash\",\n",
    "    },\n",
    "    \"Debye\": {\n",
    "        \"data\": config_Al.qha.methods[\"debye\"][0][\"quasi_harmonic_df\"][\"Cp\"],\n",
    "        \"color\": \"#00CC96\",\n",
    "    },\n",
    "}\n",
    "\n",
    "# Add traces for each method\n",
    "for name, props in methods.items():\n",
    "    Cp = props[\"data\"] * 1.60218e-19 / 4 * 6.022e23  # Convert to J/mol/K\n",
    "    add_trace(fig, temperature, Cp, mode=\"lines\", name=name, color=props[\"color\"], dash=props.get(\"dash\"))\n",
    "\n",
    "# Format and display the plot\n",
    "plot_format(fig, xtitle=\"Temperature (K)\", ytitle=\"C<sub>p</sub> (J/mol/K)\", width=650, height=600)\n",
    "fig.update_xaxes(range=[0, 930], tick0=0, dtick=100)\n",
    "fig.update_yaxes(range=[0, 35], tick0=0, dtick=5)\n",
    "fig.show()"
   ]
  },
  {
   "cell_type": "markdown",
   "metadata": {},
   "source": [
    "CTE vs. T"
   ]
  },
  {
   "cell_type": "code",
   "execution_count": null,
   "metadata": {},
   "outputs": [],
   "source": [
    "# Initialize figure\n",
    "fig = go.Figure()\n",
    "temperature = config_Al.qha.temperatures\n",
    "\n",
    "# Ref: https://iopscience.iop.org/article/10.1088/0959-5309/53/3/305\n",
    "T_C_Wilson = np.array([0, 100, 200, 300, 400, 500, 600, 650])  # °C\n",
    "T_K_Wilson = T_C_Wilson + 273.15  # Convert to Kelvin\n",
    "CTE_linear = np.array([22, 25.4, 26.5, 27.8, 29.9, 32.5, 35.5, 37.2])  # Linear CTE\n",
    "CTE_volume = CTE_linear * 3  # Convert to volumetric CTE\n",
    "add_trace(fig, T_K_Wilson, CTE_volume, mode=\"markers\", name=\"Wilson (1941)\", color=\"black\", symbol=\"circle-open\")\n",
    "\n",
    "# Data from calculations\n",
    "methods = {\n",
    "    \"Ph+El\": {\n",
    "        \"data\": config_Al.qha.methods[\"phonons_thermal_electronic\"][0][\"quasi_harmonic_df\"][\"CTE\"],\n",
    "        \"color\": \"#EF553B\",\n",
    "        \"dash\": \"dash\",\n",
    "    },\n",
    "    \"Ph\": {\n",
    "        \"data\": config_Al.qha.methods[\"phonons\"][0][\"quasi_harmonic_df\"][\"CTE\"],\n",
    "        \"color\": \"#636EFA\",\n",
    "    },\n",
    "    \"Debye+El\": {\n",
    "        \"data\": config_Al.qha.methods[\"debye_thermal_electronic\"][0][\"quasi_harmonic_df\"][\"CTE\"],\n",
    "        \"color\": \"#AB63FA\",\n",
    "        \"dash\": \"dash\",\n",
    "    },\n",
    "    \"Debye\": {\n",
    "        \"data\": config_Al.qha.methods[\"debye\"][0][\"quasi_harmonic_df\"][\"CTE\"],\n",
    "        \"color\": \"#00CC96\",\n",
    "    },\n",
    "}\n",
    "\n",
    "# Add traces for each method\n",
    "for name, props in methods.items():\n",
    "    add_trace(fig, temperature, props[\"data\"], mode=\"lines\", name=name, color=props[\"color\"], dash=props.get(\"dash\"))\n",
    "\n",
    "# Format and display the plot\n",
    "plot_format(fig, xtitle=\"Temperature (K)\", ytitle=\"CTE (10<sup>-6</sup> K<sup>-1</sup>)\", width=650, height=600)\n",
    "fig.update_xaxes(range=[0, 930], tick0=0, dtick=100)\n",
    "fig.update_yaxes(range=[0, 120], tick0=0, dtick=20)\n",
    "fig.show()"
   ]
  },
  {
   "cell_type": "code",
   "execution_count": null,
   "metadata": {},
   "outputs": [],
   "source": [
    "experiments = {\n",
    "    \"Janaf\": {\n",
    "        \"ref\": \"https://janaf.nist.gov/tables/Al-001.html\",\n",
    "        \"temperatures\": T_janaf.tolist(),\n",
    "        \"pressure\": 0,\n",
    "        \"heatCapacity\": Cp_janaf.tolist(),\n",
    "    },\n",
    "    \"Wilson (1941)\": {\n",
    "        \"ref\": \"https://iopscience.iop.org/article/10.1088/0959-5309/53/3/305\",\n",
    "        \"temperatures\": T_K_Wilson.tolist(),\n",
    "        \"pressure\": 0,\n",
    "        \"heatCapacity\": CTE_volume.tolist(),\n",
    "    }\n",
    "}\n",
    "\n",
    "config_Al.add_experiments(experiments)"
   ]
  },
  {
   "cell_type": "markdown",
   "metadata": {},
   "source": [
    "## MongoDB"
   ]
  },
  {
   "cell_type": "code",
   "execution_count": null,
   "metadata": {},
   "outputs": [],
   "source": [
    "config_Al.add_metadata(comment = \"FCC Al 4-atom supercell\")"
   ]
  },
  {
   "cell_type": "code",
   "execution_count": null,
   "metadata": {},
   "outputs": [],
   "source": [
    "# Replace with your actual MongoDB connection string\n",
    "connection_string = \"enter_your_connection_string_here\"\n",
    "db_name = \"DFTTK\"\n",
    "collection_name = \"community\"\n",
    "config_Al.to_mongodb(connection_string, db_name, collection_name)"
   ]
  }
 ],
 "metadata": {
  "kernelspec": {
   "display_name": "Python 3",
   "language": "python",
   "name": "python3"
  },
  "language_info": {
   "codemirror_mode": {
    "name": "ipython",
    "version": 3
   },
   "file_extension": ".py",
   "mimetype": "text/x-python",
   "name": "python",
   "nbconvert_exporter": "python",
   "pygments_lexer": "ipython3",
   "version": "3.12.4"
  }
 },
 "nbformat": 4,
 "nbformat_minor": 2
}
