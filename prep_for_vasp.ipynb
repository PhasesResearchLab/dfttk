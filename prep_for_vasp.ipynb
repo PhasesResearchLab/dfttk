{
 "cells": [
  {
   "cell_type": "code",
   "execution_count": 5,
   "metadata": {},
   "outputs": [],
   "source": [
    "import os\n",
    "import shutil\n",
    "import sys\n",
    "sys.path.append('/storage/home/lam7027/work/bin/vasp-job-automation')\n",
    "import prep_for_vasp as pforv\n",
    "from pymatgen.core.structure import Structure\n",
    "\n"
   ]
  },
  {
   "cell_type": "code",
   "execution_count": 2,
   "metadata": {},
   "outputs": [],
   "source": [
    "potcar = 'POTCAR'\n",
    "kpoints = 'KPOINTS'\n",
    "pforv.parse('YWoutput')\n",
    "atom_count_df = pforv.count_atoms()\n",
    "pforv.remove_spin_up_less_than_down(atom_count_df, 'Fe+', 'Fe-')\n",
    "pforv.convert_strs_to_poscars()\n",
    "pforv.make_incars('Fe+', 'Fe-', 'Se', '5', '-5', '0', 'INCAR')\n",
    "for dir in os.listdir('configurations'):\n",
    "    shutil.copy(potcar, os.path.join('configurations', dir))\n"
   ]
  },
  {
   "cell_type": "code",
   "execution_count": 3,
   "metadata": {},
   "outputs": [],
   "source": [
    "config_dirs = [os.path.join('configurations', dir) for dir in os.listdir('configurations')]\n",
    "for config_dir in config_dirs:\n",
    "    pforv.rearrage_sites_and_magmoms(config_dir)"
   ]
  },
  {
   "cell_type": "code",
   "execution_count": 2,
   "metadata": {},
   "outputs": [],
   "source": [
    "pforv.scale_poscars(21)"
   ]
  },
  {
   "cell_type": "code",
   "execution_count": 7,
   "metadata": {},
   "outputs": [
    {
     "name": "stdout",
     "output_type": "stream",
     "text": [
      "336.0\n"
     ]
    }
   ],
   "source": [
    "struct = Structure.from_file('/storage/home/lam7027/work/FeSe/genstrs_all/configurations/config_1031/POSCAR')\n",
    "print(struct.volume)"
   ]
  },
  {
   "cell_type": "code",
   "execution_count": null,
   "metadata": {},
   "outputs": [],
   "source": [
    "pforv.make_kpoints(6000)"
   ]
  },
  {
   "cell_type": "code",
   "execution_count": null,
   "metadata": {},
   "outputs": [],
   "source": [
    "pforv.create_submit_scripts(configurations_directory='configurations', submit_script='run_vasp',)"
   ]
  }
 ],
 "metadata": {
  "kernelspec": {
   "display_name": "base",
   "language": "python",
   "name": "python3"
  },
  "language_info": {
   "codemirror_mode": {
    "name": "ipython",
    "version": 3
   },
   "file_extension": ".py",
   "mimetype": "text/x-python",
   "name": "python",
   "nbconvert_exporter": "python",
   "pygments_lexer": "ipython3",
   "version": "3.12.1"
  }
 },
 "nbformat": 4,
 "nbformat_minor": 2
}
