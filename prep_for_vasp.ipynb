{
 "cells": [
  {
   "cell_type": "code",
   "execution_count": 1,
   "metadata": {},
   "outputs": [],
   "source": [
    "import os\n",
    "import sys\n",
    "import pandas as pd\n",
    "from ase import io\n",
    "import shutil"
   ]
  },
  {
   "cell_type": "code",
   "execution_count": 2,
   "metadata": {},
   "outputs": [],
   "source": [
    "def write_to_file(filename, lines):\n",
    "    with open(filename, 'w') as file:\n",
    "        file.writelines(lines)"
   ]
  },
  {
   "cell_type": "code",
   "execution_count": 3,
   "metadata": {},
   "outputs": [],
   "source": [
    "def parse(ywoutput, directory='strs'):\n",
    "    if not os.path.exists(directory):\n",
    "        os.makedirs(directory)  # Create the 'strs' directory if it doesn't exist\n",
    "    \n",
    "    with open(ywoutput, 'r') as file:\n",
    "        lines = file.readlines()\n",
    "\n",
    "    current_lines = []\n",
    "    file_number = 1\n",
    "\n",
    "    for line in lines:\n",
    "        current_lines.append(line)\n",
    "\n",
    "        # Check if the line contains the \"end\" marker\n",
    "        if 'end' in line:\n",
    "            output_filename = os.path.join(directory, f'str.{file_number}')\n",
    "            write_to_file(output_filename, current_lines)\n",
    "            current_lines = []  # Reset the current_lines list for the next section\n",
    "            file_number += 1"
   ]
  },
  {
   "cell_type": "code",
   "execution_count": 4,
   "metadata": {},
   "outputs": [],
   "source": [
    "def convert_strs_to_poscars(directory='strs', configurations_directory='configurations'):\n",
    "    # Get a list of files in the specified directory\n",
    "    str_files = [filename for filename in os.listdir(directory) if filename.startswith('str')]\n",
    "\n",
    "    # Create the configurations directory if it doesn't exist\n",
    "    if not os.path.exists(configurations_directory):\n",
    "        os.makedirs(configurations_directory)\n",
    "\n",
    "    for structure_from in str_files:\n",
    "        output_directory = os.path.join(configurations_directory, 'config_' + structure_from[4:])\n",
    "        structure_to = os.path.join(output_directory, 'POSCAR')\n",
    "\n",
    "        if not os.path.exists(f'{directory}/{structure_from}'):\n",
    "            print(f'EEEE ATAT file {structure_from} does not exist in the path!')\n",
    "            print('EEEE You have to specify the ATAT file in this Python script.')\n",
    "            print('EEEE exiting ...')\n",
    "            sys.exit(1)\n",
    "\n",
    "        # Create the output directory if it doesn't exist\n",
    "        if not os.path.exists(output_directory):\n",
    "            os.makedirs(output_directory)\n",
    "\n",
    "        # Convert str.out to CIF format first\n",
    "        tmp = 'tmp.cif'\n",
    "        cmd = f'str2cif < {directory}/{structure_from} > {tmp}'\n",
    "        os.system(cmd)\n",
    "\n",
    "        # Then convert CIF to POSCAR using ASE\n",
    "        atoms = io.read(tmp)\n",
    "        atoms.write(structure_to, format='vasp')\n",
    "\n",
    "        # Clean up\n",
    "        os.remove(tmp)"
   ]
  },
  {
   "cell_type": "code",
   "execution_count": 5,
   "metadata": {},
   "outputs": [],
   "source": [
    "def count_atoms(strs_dir='strs'):\n",
    "    kept = []\n",
    "    data_list = []\n",
    "    for file_name in os.listdir(strs_dir):\n",
    "        frequency_dict = {'file_number': file_name[4:]}\n",
    "        with open(os.path.join(strs_dir, file_name), 'r') as file:\n",
    "            for line in file:\n",
    "                if line.strip():  # Skip empty lines\n",
    "                    parts = line.split()\n",
    "                    if len(parts) == 4:\n",
    "                        value = parts[3]\n",
    "                        if value in frequency_dict:\n",
    "                            frequency_dict[value] += 1\n",
    "                        else:\n",
    "                            frequency_dict[value] = 1\n",
    "        data_list.append(frequency_dict)\n",
    "    df = pd.DataFrame(data_list) \n",
    "    df = df.fillna(0) \n",
    "    return df"
   ]
  },
  {
   "cell_type": "code",
   "execution_count": 6,
   "metadata": {},
   "outputs": [],
   "source": [
    "def remove_spin_up_less_than_down(atom_count_df, atom_up, atom_down): #takes the dataframe from count_atoms and removes all files where the number of spin up atoms is less than the number of spin down\n",
    "    for index, row in atom_count_df.iterrows():\n",
    "        parity = [] #when the number of spin up atoms is equal to the number of spin down atoms we need to keep one of the files but not the other. This list keeps track of whether we have kept a parity file or not.\n",
    "        if row[atom_up] < row[atom_down]:\n",
    "            os.remove(f'strs/str.{row[\"file_number\"]}')"
   ]
  },
  {
   "cell_type": "code",
   "execution_count": 7,
   "metadata": {},
   "outputs": [],
   "source": [
    "def make_incars(atom_1, atom_2, atom_3, spin_1, spin_2, spin_3, incar='INCAR', configurations_directory='configurations', strs_dir='strs'): #takes an INCAR file and adds a line for the magnetic moment in accordance with the str file\n",
    "    str_files = [filename for filename in os.listdir(strs_dir) if filename.startswith('str')]\n",
    "    for str_file in str_files:\n",
    "        mag_mom_list = []\n",
    "        output_directory = os.path.join(configurations_directory, 'config_' + str_file[4:])\n",
    "        incar_to = os.path.join(output_directory, 'INCAR')\n",
    "        with open(os.path.join(strs_dir, str_file), 'r') as file:\n",
    "            lines = file.readlines()\n",
    "            for line in lines:\n",
    "                if atom_1 in line:\n",
    "                    mag_mom_list.append(spin_1)\n",
    "                elif atom_2 in line:\n",
    "                    mag_mom_list.append(spin_2)\n",
    "                elif atom_3 in line:\n",
    "                    mag_mom_list.append(spin_3)\n",
    "        mag_mom_string = ' '.join(mag_mom_list)\n",
    "        shutil.copy(incar, incar_to)\n",
    "        with open(incar_to, 'a') as file:\n",
    "            file.write('\\nMAGMOM = %s' % mag_mom_string)"
   ]
  },
  {
   "cell_type": "code",
   "execution_count": 8,
   "metadata": {},
   "outputs": [],
   "source": [
    "def prep_for_vasp(ywoutput, magnetic_configurations=False):\n",
    "    parse(ywoutput)\n",
    "\n",
    "    if magnetic_configurations == False:\n",
    "        for file in os.listdir():\n",
    "            convert_strs_to_poscars()\n",
    "\n",
    "    if magnetic_configurations == True:\n",
    "        remove_spin_up_less_than_down()\n",
    "        convert_strs_to_poscars()\n",
    "        make_incars(str_file)"
   ]
  },
  {
   "cell_type": "code",
   "execution_count": 10,
   "metadata": {},
   "outputs": [
    {
     "ename": "FileNotFoundError",
     "evalue": "[Errno 2] No such file or directory: 'INCAR'",
     "output_type": "error",
     "traceback": [
      "\u001b[0;31m---------------------------------------------------------------------------\u001b[0m",
      "\u001b[0;31mFileNotFoundError\u001b[0m                         Traceback (most recent call last)",
      "Cell \u001b[0;32mIn[10], line 7\u001b[0m\n\u001b[1;32m      5\u001b[0m remove_spin_up_less_than_down(atom_count_df, \u001b[38;5;124m'\u001b[39m\u001b[38;5;124mFe+\u001b[39m\u001b[38;5;124m'\u001b[39m, \u001b[38;5;124m'\u001b[39m\u001b[38;5;124mFe-\u001b[39m\u001b[38;5;124m'\u001b[39m)\n\u001b[1;32m      6\u001b[0m convert_strs_to_poscars()\n\u001b[0;32m----> 7\u001b[0m \u001b[43mmake_incars\u001b[49m\u001b[43m(\u001b[49m\u001b[38;5;124;43m'\u001b[39;49m\u001b[38;5;124;43mFe+\u001b[39;49m\u001b[38;5;124;43m'\u001b[39;49m\u001b[43m,\u001b[49m\u001b[43m \u001b[49m\u001b[38;5;124;43m'\u001b[39;49m\u001b[38;5;124;43mFe-\u001b[39;49m\u001b[38;5;124;43m'\u001b[39;49m\u001b[43m,\u001b[49m\u001b[43m \u001b[49m\u001b[38;5;124;43m'\u001b[39;49m\u001b[38;5;124;43mSe\u001b[39;49m\u001b[38;5;124;43m'\u001b[39;49m\u001b[43m,\u001b[49m\u001b[43m \u001b[49m\u001b[38;5;124;43m'\u001b[39;49m\u001b[38;5;124;43m5\u001b[39;49m\u001b[38;5;124;43m'\u001b[39;49m\u001b[43m,\u001b[49m\u001b[43m \u001b[49m\u001b[38;5;124;43m'\u001b[39;49m\u001b[38;5;124;43m-5\u001b[39;49m\u001b[38;5;124;43m'\u001b[39;49m\u001b[43m,\u001b[49m\u001b[43m \u001b[49m\u001b[38;5;124;43m'\u001b[39;49m\u001b[38;5;124;43m0\u001b[39;49m\u001b[38;5;124;43m'\u001b[39;49m\u001b[43m,\u001b[49m\u001b[43m \u001b[49m\u001b[38;5;124;43m'\u001b[39;49m\u001b[38;5;124;43mINCAR\u001b[39;49m\u001b[38;5;124;43m'\u001b[39;49m\u001b[43m)\u001b[49m\n\u001b[1;32m      8\u001b[0m \u001b[38;5;28;01mfor\u001b[39;00m \u001b[38;5;28mdir\u001b[39m \u001b[38;5;129;01min\u001b[39;00m os\u001b[38;5;241m.\u001b[39mlistdir(\u001b[38;5;124m'\u001b[39m\u001b[38;5;124mconfigurations\u001b[39m\u001b[38;5;124m'\u001b[39m):\n\u001b[1;32m      9\u001b[0m     shutil\u001b[38;5;241m.\u001b[39mcopy(potcar, os\u001b[38;5;241m.\u001b[39mpath\u001b[38;5;241m.\u001b[39mjoin(\u001b[38;5;124m'\u001b[39m\u001b[38;5;124mconfigurations\u001b[39m\u001b[38;5;124m'\u001b[39m, \u001b[38;5;28mdir\u001b[39m))\n",
      "Cell \u001b[0;32mIn[7], line 17\u001b[0m, in \u001b[0;36mmake_incars\u001b[0;34m(atom_1, atom_2, atom_3, spin_1, spin_2, spin_3, incar, configurations_directory, strs_dir)\u001b[0m\n\u001b[1;32m     15\u001b[0m             mag_mom_list\u001b[38;5;241m.\u001b[39mappend(spin_3)\n\u001b[1;32m     16\u001b[0m mag_mom_string \u001b[38;5;241m=\u001b[39m \u001b[38;5;124m'\u001b[39m\u001b[38;5;124m \u001b[39m\u001b[38;5;124m'\u001b[39m\u001b[38;5;241m.\u001b[39mjoin(mag_mom_list)\n\u001b[0;32m---> 17\u001b[0m \u001b[43mshutil\u001b[49m\u001b[38;5;241;43m.\u001b[39;49m\u001b[43mcopy\u001b[49m\u001b[43m(\u001b[49m\u001b[43mincar\u001b[49m\u001b[43m,\u001b[49m\u001b[43m \u001b[49m\u001b[43mincar_to\u001b[49m\u001b[43m)\u001b[49m\n\u001b[1;32m     18\u001b[0m \u001b[38;5;28;01mwith\u001b[39;00m \u001b[38;5;28mopen\u001b[39m(incar_to, \u001b[38;5;124m'\u001b[39m\u001b[38;5;124ma\u001b[39m\u001b[38;5;124m'\u001b[39m) \u001b[38;5;28;01mas\u001b[39;00m file:\n\u001b[1;32m     19\u001b[0m     file\u001b[38;5;241m.\u001b[39mwrite(\u001b[38;5;124m'\u001b[39m\u001b[38;5;130;01m\\n\u001b[39;00m\u001b[38;5;124mMAGMOM = \u001b[39m\u001b[38;5;132;01m%s\u001b[39;00m\u001b[38;5;124m'\u001b[39m \u001b[38;5;241m%\u001b[39m mag_mom_string)\n",
      "File \u001b[0;32m~/miniconda3/lib/python3.11/shutil.py:419\u001b[0m, in \u001b[0;36mcopy\u001b[0;34m(src, dst, follow_symlinks)\u001b[0m\n\u001b[1;32m    417\u001b[0m \u001b[38;5;28;01mif\u001b[39;00m os\u001b[38;5;241m.\u001b[39mpath\u001b[38;5;241m.\u001b[39misdir(dst):\n\u001b[1;32m    418\u001b[0m     dst \u001b[38;5;241m=\u001b[39m os\u001b[38;5;241m.\u001b[39mpath\u001b[38;5;241m.\u001b[39mjoin(dst, os\u001b[38;5;241m.\u001b[39mpath\u001b[38;5;241m.\u001b[39mbasename(src))\n\u001b[0;32m--> 419\u001b[0m \u001b[43mcopyfile\u001b[49m\u001b[43m(\u001b[49m\u001b[43msrc\u001b[49m\u001b[43m,\u001b[49m\u001b[43m \u001b[49m\u001b[43mdst\u001b[49m\u001b[43m,\u001b[49m\u001b[43m \u001b[49m\u001b[43mfollow_symlinks\u001b[49m\u001b[38;5;241;43m=\u001b[39;49m\u001b[43mfollow_symlinks\u001b[49m\u001b[43m)\u001b[49m\n\u001b[1;32m    420\u001b[0m copymode(src, dst, follow_symlinks\u001b[38;5;241m=\u001b[39mfollow_symlinks)\n\u001b[1;32m    421\u001b[0m \u001b[38;5;28;01mreturn\u001b[39;00m dst\n",
      "File \u001b[0;32m~/miniconda3/lib/python3.11/shutil.py:256\u001b[0m, in \u001b[0;36mcopyfile\u001b[0;34m(src, dst, follow_symlinks)\u001b[0m\n\u001b[1;32m    254\u001b[0m     os\u001b[38;5;241m.\u001b[39msymlink(os\u001b[38;5;241m.\u001b[39mreadlink(src), dst)\n\u001b[1;32m    255\u001b[0m \u001b[38;5;28;01melse\u001b[39;00m:\n\u001b[0;32m--> 256\u001b[0m     \u001b[38;5;28;01mwith\u001b[39;00m \u001b[38;5;28;43mopen\u001b[39;49m\u001b[43m(\u001b[49m\u001b[43msrc\u001b[49m\u001b[43m,\u001b[49m\u001b[43m \u001b[49m\u001b[38;5;124;43m'\u001b[39;49m\u001b[38;5;124;43mrb\u001b[39;49m\u001b[38;5;124;43m'\u001b[39;49m\u001b[43m)\u001b[49m \u001b[38;5;28;01mas\u001b[39;00m fsrc:\n\u001b[1;32m    257\u001b[0m         \u001b[38;5;28;01mtry\u001b[39;00m:\n\u001b[1;32m    258\u001b[0m             \u001b[38;5;28;01mwith\u001b[39;00m \u001b[38;5;28mopen\u001b[39m(dst, \u001b[38;5;124m'\u001b[39m\u001b[38;5;124mwb\u001b[39m\u001b[38;5;124m'\u001b[39m) \u001b[38;5;28;01mas\u001b[39;00m fdst:\n\u001b[1;32m    259\u001b[0m                 \u001b[38;5;66;03m# macOS\u001b[39;00m\n",
      "\u001b[0;31mFileNotFoundError\u001b[0m: [Errno 2] No such file or directory: 'INCAR'"
     ]
    }
   ],
   "source": [
    "potcar = 'POTCAR'\n",
    "kpoints = 'KPOINTS'\n",
    "parse('YWoutput')\n",
    "atom_count_df = count_atoms()\n",
    "remove_spin_up_less_than_down(atom_count_df, 'Fe+', 'Fe-')\n",
    "convert_strs_to_poscars()\n",
    "make_incars('Fe+', 'Fe-', 'Se', '5', '-5', '0', 'INCAR')\n",
    "for dir in os.listdir('configurations'):\n",
    "    shutil.copy(potcar, os.path.join('configurations', dir))\n",
    "    shutil.copy(kpoints, os.path.join('configurations', dir))"
   ]
  }
 ],
 "metadata": {
  "kernelspec": {
   "display_name": "base",
   "language": "python",
   "name": "python3"
  },
  "language_info": {
   "codemirror_mode": {
    "name": "ipython",
    "version": 3
   },
   "file_extension": ".py",
   "mimetype": "text/x-python",
   "name": "python",
   "nbconvert_exporter": "python",
   "pygments_lexer": "ipython3",
   "version": "3.11.5"
  }
 },
 "nbformat": 4,
 "nbformat_minor": 2
}
