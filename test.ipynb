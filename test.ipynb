{
 "cells": [
  {
   "cell_type": "code",
   "execution_count": 4,
   "metadata": {},
   "outputs": [],
   "source": [
    "import sys\n",
    "import os\n",
    "import json\n",
    "import numpy as np\n",
    "import workflows\n",
    "from custodian.vasp.handlers import VaspErrorHandler"
   ]
  },
  {
   "cell_type": "code",
   "execution_count": 5,
   "metadata": {},
   "outputs": [],
   "source": [
    "subset = list(VaspErrorHandler.error_msgs.keys())\n",
    "subset.remove(\"algo_tet\")\n",
    "subset.remove(\"brmix\")\n",
    "subset.remove(\"zbrent\")\n",
    "handlers = [VaspErrorHandler(errors_subset_to_catch=subset)]"
   ]
  },
  {
   "cell_type": "code",
   "execution_count": 9,
   "metadata": {},
   "outputs": [],
   "source": [
    "path = os.getcwd()\n",
    "# Specify custodian handlers\n",
    "subset = list(VaspErrorHandler.error_msgs.keys())\n",
    "subset.remove(\"algo_tet\")\n",
    "subset.remove(\"brmix\")\n",
    "subset.remove(\"zbrent\")\n",
    "handlers = [VaspErrorHandler(errors_subset_to_catch=subset)]\n",
    "\n",
    "# Specify VASP command\n",
    "vasp_cmd = [\"srun\", \"vasp_std\"]\n",
    "\n",
    "volumes = list(np.linspace(370, 270, 15))\n",
    "restarting = False"
   ]
  },
  {
   "cell_type": "code",
   "execution_count": 21,
   "metadata": {},
   "outputs": [],
   "source": [
    "# Write a params.json file to keep track of the parameters used\n",
    "errors_subset_list = [handler.errors_subset_to_catch for handler in handlers]\n",
    "params = {'path': path,\n",
    "            'volumes': volumes,\n",
    "            'vasp_cmd': vasp_cmd,\n",
    "            'handlers': errors_subset_list[0],\n",
    "            'restarting': restarting}\n",
    "params_json_path = os.path.join(path, 'params.json')\n",
    "\n",
    "n = 0\n",
    "params_json_path = os.path.join(path, 'params_' + str(n) + '.json')\n",
    "while os.path.isfile(params_json_path):\n",
    "    n += 1\n",
    "    params_json_path = os.path.join(path, 'params_' + str(n) + '.json')\n",
    "\n",
    "with open(params_json_path, 'w') as file:\n",
    "    json.dump(params, file)"
   ]
  },
  {
   "cell_type": "code",
   "execution_count": 14,
   "metadata": {},
   "outputs": [],
   "source": [
    "# clear params_json_path variable\n",
    "params_json_path = None\n"
   ]
  }
 ],
 "metadata": {
  "kernelspec": {
   "display_name": "Python 3",
   "language": "python",
   "name": "python3"
  },
  "language_info": {
   "codemirror_mode": {
    "name": "ipython",
    "version": 3
   },
   "file_extension": ".py",
   "mimetype": "text/x-python",
   "name": "python",
   "nbconvert_exporter": "python",
   "pygments_lexer": "ipython3",
   "version": "3.11.8"
  }
 },
 "nbformat": 4,
 "nbformat_minor": 2
}
