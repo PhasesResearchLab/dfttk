{
 "cells": [
  {
   "cell_type": "code",
   "execution_count": 1,
   "metadata": {},
   "outputs": [
    {
     "data": {
      "text/plain": [
       "\"\\nmake sure you have the necessary packages installed to use the cstdn module\\n\\nDirectory structure should look something like this:\\n    configurations\\n        config_1\\n            vol_1\\n            vol_2\\n        config_2\\n            vol_1\\n            vol_2\\n\\nI think the only name that matters is the name of the volume, so you can have:\\n    structures\\n        str_1\\n            vol_1\\n            vol_2\\n        str_2\\n            vol_1\\n            vol_2\\nBut, I'm not 100% sure. At any rate the tutorial will be easier to follow with\\nthe config name scheme\\n\\n\""
      ]
     },
     "execution_count": 1,
     "metadata": {},
     "output_type": "execute_result"
    }
   ],
   "source": [
    "\"\"\"\n",
    "make sure you have the necessary packages installed to use the cstdn module\n",
    "\n",
    "Directory structure should look something like this:\n",
    "    configurations\n",
    "        config_1\n",
    "            vol_1\n",
    "            vol_2\n",
    "        config_2\n",
    "            vol_1\n",
    "            vol_2\n",
    "\n",
    "I think the only name that matters is the name of the volume, so you can have:\n",
    "    structures\n",
    "        str_1\n",
    "            vol_1\n",
    "            vol_2\n",
    "        str_2\n",
    "            vol_1\n",
    "            vol_2\n",
    "But, I'm not 100% sure. At any rate the tutorial will be easier to follow with\n",
    "the config name scheme\n",
    "\n",
    "\"\"\""
   ]
  },
  {
   "cell_type": "code",
   "execution_count": 2,
   "metadata": {},
   "outputs": [],
   "source": [
    "\"\"\"\n",
    "add the path of your version of vasp-job-automation to the system path\n",
    "\"\"\"\n",
    "import sys\n",
    "sys.path.append('C:\\\\Users\\\\Luke\\\\vasp-job-automation') #Change this to your path\n",
    "import cstdn\n",
    "import eos_fit\n",
    "import os\n",
    "import pandas as pd\n",
    "import yaml\n",
    "\n",
    "\n",
    "\n"
   ]
  },
  {
   "cell_type": "code",
   "execution_count": 3,
   "metadata": {},
   "outputs": [
    {
     "data": {
      "text/plain": [
       "'\\nTo extract data from a single config and then plot that data,\\n'"
      ]
     },
     "execution_count": 3,
     "metadata": {},
     "output_type": "execute_result"
    }
   ],
   "source": [
    "\"\"\"\n",
    "To extract data from a single config and then plot that data,\n",
    "\"\"\""
   ]
  },
  {
   "cell_type": "code",
   "execution_count": 4,
   "metadata": {},
   "outputs": [],
   "source": [
    "# change the list to the ions you want to plot the magnetic moment data for\n",
    "ion_list = [i for i in range(1, 9)] # recall that range(n, m) = [n, ..., m-1]"
   ]
  },
  {
   "cell_type": "code",
   "execution_count": 5,
   "metadata": {},
   "outputs": [],
   "source": [
    "\"\"\"\n",
    "We can extract the data to a dataframe using this function\n",
    "\n",
    "Change path to the 'config_x' dir. this is the directory that cointains\n",
    "all the vol_x dirs which contain the OUTCAR and OSZICAR files for that volume\n",
    "\n",
    "If the OUTCAR and OSZICAR files have different names, specify them,\n",
    "    ex: outcar_name='OUTCAR.3static'\n",
    "\"\"\"\n",
    "\n",
    "df = cstdn.extract_config_data('C:/Users/Luke/vasp-job-automation/test_data/configurations/config_21', ion_list, outcar_name='OUTCAR.2relax', oszicar_name='OSZICAR.2relax') "
   ]
  },
  {
   "cell_type": "code",
   "execution_count": 6,
   "metadata": {},
   "outputs": [
    {
     "data": {
      "application/vnd.plotly.v1+json": {
       "config": {
        "plotlyServerURL": "https://plot.ly"
       },
       "data": [
        {
         "customdata": [
          [
           "21",
           1
          ],
          [
           "21",
           1
          ],
          [
           "21",
           1
          ],
          [
           "21",
           1
          ],
          [
           "21",
           1
          ],
          [
           "21",
           1
          ],
          [
           "21",
           1
          ],
          [
           "21",
           1
          ],
          [
           "21",
           1
          ],
          [
           "21",
           1
          ],
          [
           "21",
           1
          ]
         ],
         "hovertemplate": "# of ion=%{customdata[1]}<br>volume=%{x}<br>tot=%{y}<br>config=%{customdata[0]}<extra></extra>",
         "legendgroup": "1",
         "line": {
          "color": "#636efa",
          "dash": "10px,18px",
          "width": 3
         },
         "marker": {
          "line": {
           "width": 1
          },
          "opacity": 0.5,
          "size": 8,
          "symbol": "circle"
         },
         "mode": "markers+lines",
         "name": "1",
         "orientation": "v",
         "showlegend": true,
         "type": "scatter",
         "x": [
          270,
          277,
          284,
          291,
          298,
          305,
          312,
          319,
          326,
          333,
          340
         ],
         "xaxis": "x",
         "y": [
          2.329,
          2.376,
          2.425,
          2.469,
          2.508,
          2.543,
          2.572,
          2.601,
          2.623,
          2.644,
          2.662
         ],
         "yaxis": "y"
        },
        {
         "customdata": [
          [
           "21",
           2
          ],
          [
           "21",
           2
          ],
          [
           "21",
           2
          ],
          [
           "21",
           2
          ],
          [
           "21",
           2
          ],
          [
           "21",
           2
          ],
          [
           "21",
           2
          ],
          [
           "21",
           2
          ],
          [
           "21",
           2
          ],
          [
           "21",
           2
          ],
          [
           "21",
           2
          ]
         ],
         "hovertemplate": "# of ion=%{customdata[1]}<br>volume=%{x}<br>tot=%{y}<br>config=%{customdata[0]}<extra></extra>",
         "legendgroup": "2",
         "line": {
          "color": "#EF553B",
          "dash": "9px,16px",
          "width": 3
         },
         "marker": {
          "line": {
           "width": 1
          },
          "opacity": 0.5,
          "size": 8,
          "symbol": "diamond"
         },
         "mode": "markers+lines",
         "name": "2",
         "orientation": "v",
         "showlegend": true,
         "type": "scatter",
         "x": [
          270,
          277,
          284,
          291,
          298,
          305,
          312,
          319,
          326,
          333,
          340
         ],
         "xaxis": "x",
         "y": [
          -2.329,
          -2.376,
          -2.425,
          -2.469,
          -2.508,
          -2.543,
          -2.572,
          -2.601,
          -2.623,
          -2.644,
          -2.662
         ],
         "yaxis": "y"
        },
        {
         "customdata": [
          [
           "21",
           3
          ],
          [
           "21",
           3
          ],
          [
           "21",
           3
          ],
          [
           "21",
           3
          ],
          [
           "21",
           3
          ],
          [
           "21",
           3
          ],
          [
           "21",
           3
          ],
          [
           "21",
           3
          ],
          [
           "21",
           3
          ],
          [
           "21",
           3
          ],
          [
           "21",
           3
          ]
         ],
         "hovertemplate": "# of ion=%{customdata[1]}<br>volume=%{x}<br>tot=%{y}<br>config=%{customdata[0]}<extra></extra>",
         "legendgroup": "3",
         "line": {
          "color": "#00cc96",
          "dash": "8px,14px",
          "width": 3
         },
         "marker": {
          "line": {
           "width": 1
          },
          "opacity": 0.5,
          "size": 8,
          "symbol": "square"
         },
         "mode": "markers+lines",
         "name": "3",
         "orientation": "v",
         "showlegend": true,
         "type": "scatter",
         "x": [
          270,
          277,
          284,
          291,
          298,
          305,
          312,
          319,
          326,
          333,
          340
         ],
         "xaxis": "x",
         "y": [
          -2.329,
          -2.376,
          -2.425,
          -2.469,
          -2.508,
          -2.543,
          -2.572,
          -2.601,
          -2.623,
          -2.644,
          -2.662
         ],
         "yaxis": "y"
        },
        {
         "customdata": [
          [
           "21",
           4
          ],
          [
           "21",
           4
          ],
          [
           "21",
           4
          ],
          [
           "21",
           4
          ],
          [
           "21",
           4
          ],
          [
           "21",
           4
          ],
          [
           "21",
           4
          ],
          [
           "21",
           4
          ],
          [
           "21",
           4
          ],
          [
           "21",
           4
          ],
          [
           "21",
           4
          ]
         ],
         "hovertemplate": "# of ion=%{customdata[1]}<br>volume=%{x}<br>tot=%{y}<br>config=%{customdata[0]}<extra></extra>",
         "legendgroup": "4",
         "line": {
          "color": "#ab63fa",
          "dash": "7px,12px",
          "width": 3
         },
         "marker": {
          "line": {
           "width": 1
          },
          "opacity": 0.5,
          "size": 8,
          "symbol": "x"
         },
         "mode": "markers+lines",
         "name": "4",
         "orientation": "v",
         "showlegend": true,
         "type": "scatter",
         "x": [
          270,
          277,
          284,
          291,
          298,
          305,
          312,
          319,
          326,
          333,
          340
         ],
         "xaxis": "x",
         "y": [
          2.329,
          2.376,
          2.425,
          2.469,
          2.508,
          2.543,
          2.572,
          2.601,
          2.623,
          2.644,
          2.662
         ],
         "yaxis": "y"
        },
        {
         "customdata": [
          [
           "21",
           5
          ],
          [
           "21",
           5
          ],
          [
           "21",
           5
          ],
          [
           "21",
           5
          ],
          [
           "21",
           5
          ],
          [
           "21",
           5
          ],
          [
           "21",
           5
          ],
          [
           "21",
           5
          ],
          [
           "21",
           5
          ],
          [
           "21",
           5
          ],
          [
           "21",
           5
          ]
         ],
         "hovertemplate": "# of ion=%{customdata[1]}<br>volume=%{x}<br>tot=%{y}<br>config=%{customdata[0]}<extra></extra>",
         "legendgroup": "5",
         "line": {
          "color": "#FFA15A",
          "dash": "6px,10px",
          "width": 3
         },
         "marker": {
          "line": {
           "width": 1
          },
          "opacity": 0.5,
          "size": 8,
          "symbol": "cross"
         },
         "mode": "markers+lines",
         "name": "5",
         "orientation": "v",
         "showlegend": true,
         "type": "scatter",
         "x": [
          270,
          277,
          284,
          291,
          298,
          305,
          312,
          319,
          326,
          333,
          340
         ],
         "xaxis": "x",
         "y": [
          2.329,
          2.376,
          2.425,
          2.469,
          2.508,
          2.543,
          2.572,
          2.601,
          2.623,
          2.644,
          2.662
         ],
         "yaxis": "y"
        },
        {
         "customdata": [
          [
           "21",
           6
          ],
          [
           "21",
           6
          ],
          [
           "21",
           6
          ],
          [
           "21",
           6
          ],
          [
           "21",
           6
          ],
          [
           "21",
           6
          ],
          [
           "21",
           6
          ],
          [
           "21",
           6
          ],
          [
           "21",
           6
          ],
          [
           "21",
           6
          ],
          [
           "21",
           6
          ]
         ],
         "hovertemplate": "# of ion=%{customdata[1]}<br>volume=%{x}<br>tot=%{y}<br>config=%{customdata[0]}<extra></extra>",
         "legendgroup": "6",
         "line": {
          "color": "#19d3f3",
          "dash": "5px,8px",
          "width": 3
         },
         "marker": {
          "line": {
           "width": 1
          },
          "opacity": 0.5,
          "size": 8,
          "symbol": "circle"
         },
         "mode": "markers+lines",
         "name": "6",
         "orientation": "v",
         "showlegend": true,
         "type": "scatter",
         "x": [
          270,
          277,
          284,
          291,
          298,
          305,
          312,
          319,
          326,
          333,
          340
         ],
         "xaxis": "x",
         "y": [
          -2.329,
          -2.376,
          -2.425,
          -2.469,
          -2.508,
          -2.543,
          -2.572,
          -2.601,
          -2.623,
          -2.644,
          -2.662
         ],
         "yaxis": "y"
        },
        {
         "customdata": [
          [
           "21",
           7
          ],
          [
           "21",
           7
          ],
          [
           "21",
           7
          ],
          [
           "21",
           7
          ],
          [
           "21",
           7
          ],
          [
           "21",
           7
          ],
          [
           "21",
           7
          ],
          [
           "21",
           7
          ],
          [
           "21",
           7
          ],
          [
           "21",
           7
          ],
          [
           "21",
           7
          ]
         ],
         "hovertemplate": "# of ion=%{customdata[1]}<br>volume=%{x}<br>tot=%{y}<br>config=%{customdata[0]}<extra></extra>",
         "legendgroup": "7",
         "line": {
          "color": "#FF6692",
          "dash": "4px,6px",
          "width": 3
         },
         "marker": {
          "line": {
           "width": 1
          },
          "opacity": 0.5,
          "size": 8,
          "symbol": "diamond"
         },
         "mode": "markers+lines",
         "name": "7",
         "orientation": "v",
         "showlegend": true,
         "type": "scatter",
         "x": [
          270,
          277,
          284,
          291,
          298,
          305,
          312,
          319,
          326,
          333,
          340
         ],
         "xaxis": "x",
         "y": [
          -2.329,
          -2.376,
          -2.425,
          -2.469,
          -2.508,
          -2.543,
          -2.572,
          -2.601,
          -2.623,
          -2.644,
          -2.662
         ],
         "yaxis": "y"
        },
        {
         "customdata": [
          [
           "21",
           8
          ],
          [
           "21",
           8
          ],
          [
           "21",
           8
          ],
          [
           "21",
           8
          ],
          [
           "21",
           8
          ],
          [
           "21",
           8
          ],
          [
           "21",
           8
          ],
          [
           "21",
           8
          ],
          [
           "21",
           8
          ],
          [
           "21",
           8
          ],
          [
           "21",
           8
          ]
         ],
         "hovertemplate": "# of ion=%{customdata[1]}<br>volume=%{x}<br>tot=%{y}<br>config=%{customdata[0]}<extra></extra>",
         "legendgroup": "8",
         "line": {
          "color": "#B6E880",
          "dash": "3px,4px",
          "width": 3
         },
         "marker": {
          "line": {
           "width": 1
          },
          "opacity": 0.5,
          "size": 8,
          "symbol": "square"
         },
         "mode": "markers+lines",
         "name": "8",
         "orientation": "v",
         "showlegend": true,
         "type": "scatter",
         "x": [
          270,
          277,
          284,
          291,
          298,
          305,
          312,
          319,
          326,
          333,
          340
         ],
         "xaxis": "x",
         "y": [
          2.329,
          2.376,
          2.425,
          2.469,
          2.508,
          2.543,
          2.572,
          2.601,
          2.623,
          2.644,
          2.662
         ],
         "yaxis": "y"
        }
       ],
       "layout": {
        "legend": {
         "title": {
          "text": "# of ion"
         },
         "tracegroupgap": 0
        },
        "margin": {
         "t": 60
        },
        "template": {
         "data": {
          "bar": [
           {
            "error_x": {
             "color": "#2a3f5f"
            },
            "error_y": {
             "color": "#2a3f5f"
            },
            "marker": {
             "line": {
              "color": "white",
              "width": 0.5
             },
             "pattern": {
              "fillmode": "overlay",
              "size": 10,
              "solidity": 0.2
             }
            },
            "type": "bar"
           }
          ],
          "barpolar": [
           {
            "marker": {
             "line": {
              "color": "white",
              "width": 0.5
             },
             "pattern": {
              "fillmode": "overlay",
              "size": 10,
              "solidity": 0.2
             }
            },
            "type": "barpolar"
           }
          ],
          "carpet": [
           {
            "aaxis": {
             "endlinecolor": "#2a3f5f",
             "gridcolor": "#C8D4E3",
             "linecolor": "#C8D4E3",
             "minorgridcolor": "#C8D4E3",
             "startlinecolor": "#2a3f5f"
            },
            "baxis": {
             "endlinecolor": "#2a3f5f",
             "gridcolor": "#C8D4E3",
             "linecolor": "#C8D4E3",
             "minorgridcolor": "#C8D4E3",
             "startlinecolor": "#2a3f5f"
            },
            "type": "carpet"
           }
          ],
          "choropleth": [
           {
            "colorbar": {
             "outlinewidth": 0,
             "ticks": ""
            },
            "type": "choropleth"
           }
          ],
          "contour": [
           {
            "colorbar": {
             "outlinewidth": 0,
             "ticks": ""
            },
            "colorscale": [
             [
              0,
              "#0d0887"
             ],
             [
              0.1111111111111111,
              "#46039f"
             ],
             [
              0.2222222222222222,
              "#7201a8"
             ],
             [
              0.3333333333333333,
              "#9c179e"
             ],
             [
              0.4444444444444444,
              "#bd3786"
             ],
             [
              0.5555555555555556,
              "#d8576b"
             ],
             [
              0.6666666666666666,
              "#ed7953"
             ],
             [
              0.7777777777777778,
              "#fb9f3a"
             ],
             [
              0.8888888888888888,
              "#fdca26"
             ],
             [
              1,
              "#f0f921"
             ]
            ],
            "type": "contour"
           }
          ],
          "contourcarpet": [
           {
            "colorbar": {
             "outlinewidth": 0,
             "ticks": ""
            },
            "type": "contourcarpet"
           }
          ],
          "heatmap": [
           {
            "colorbar": {
             "outlinewidth": 0,
             "ticks": ""
            },
            "colorscale": [
             [
              0,
              "#0d0887"
             ],
             [
              0.1111111111111111,
              "#46039f"
             ],
             [
              0.2222222222222222,
              "#7201a8"
             ],
             [
              0.3333333333333333,
              "#9c179e"
             ],
             [
              0.4444444444444444,
              "#bd3786"
             ],
             [
              0.5555555555555556,
              "#d8576b"
             ],
             [
              0.6666666666666666,
              "#ed7953"
             ],
             [
              0.7777777777777778,
              "#fb9f3a"
             ],
             [
              0.8888888888888888,
              "#fdca26"
             ],
             [
              1,
              "#f0f921"
             ]
            ],
            "type": "heatmap"
           }
          ],
          "heatmapgl": [
           {
            "colorbar": {
             "outlinewidth": 0,
             "ticks": ""
            },
            "colorscale": [
             [
              0,
              "#0d0887"
             ],
             [
              0.1111111111111111,
              "#46039f"
             ],
             [
              0.2222222222222222,
              "#7201a8"
             ],
             [
              0.3333333333333333,
              "#9c179e"
             ],
             [
              0.4444444444444444,
              "#bd3786"
             ],
             [
              0.5555555555555556,
              "#d8576b"
             ],
             [
              0.6666666666666666,
              "#ed7953"
             ],
             [
              0.7777777777777778,
              "#fb9f3a"
             ],
             [
              0.8888888888888888,
              "#fdca26"
             ],
             [
              1,
              "#f0f921"
             ]
            ],
            "type": "heatmapgl"
           }
          ],
          "histogram": [
           {
            "marker": {
             "pattern": {
              "fillmode": "overlay",
              "size": 10,
              "solidity": 0.2
             }
            },
            "type": "histogram"
           }
          ],
          "histogram2d": [
           {
            "colorbar": {
             "outlinewidth": 0,
             "ticks": ""
            },
            "colorscale": [
             [
              0,
              "#0d0887"
             ],
             [
              0.1111111111111111,
              "#46039f"
             ],
             [
              0.2222222222222222,
              "#7201a8"
             ],
             [
              0.3333333333333333,
              "#9c179e"
             ],
             [
              0.4444444444444444,
              "#bd3786"
             ],
             [
              0.5555555555555556,
              "#d8576b"
             ],
             [
              0.6666666666666666,
              "#ed7953"
             ],
             [
              0.7777777777777778,
              "#fb9f3a"
             ],
             [
              0.8888888888888888,
              "#fdca26"
             ],
             [
              1,
              "#f0f921"
             ]
            ],
            "type": "histogram2d"
           }
          ],
          "histogram2dcontour": [
           {
            "colorbar": {
             "outlinewidth": 0,
             "ticks": ""
            },
            "colorscale": [
             [
              0,
              "#0d0887"
             ],
             [
              0.1111111111111111,
              "#46039f"
             ],
             [
              0.2222222222222222,
              "#7201a8"
             ],
             [
              0.3333333333333333,
              "#9c179e"
             ],
             [
              0.4444444444444444,
              "#bd3786"
             ],
             [
              0.5555555555555556,
              "#d8576b"
             ],
             [
              0.6666666666666666,
              "#ed7953"
             ],
             [
              0.7777777777777778,
              "#fb9f3a"
             ],
             [
              0.8888888888888888,
              "#fdca26"
             ],
             [
              1,
              "#f0f921"
             ]
            ],
            "type": "histogram2dcontour"
           }
          ],
          "mesh3d": [
           {
            "colorbar": {
             "outlinewidth": 0,
             "ticks": ""
            },
            "type": "mesh3d"
           }
          ],
          "parcoords": [
           {
            "line": {
             "colorbar": {
              "outlinewidth": 0,
              "ticks": ""
             }
            },
            "type": "parcoords"
           }
          ],
          "pie": [
           {
            "automargin": true,
            "type": "pie"
           }
          ],
          "scatter": [
           {
            "fillpattern": {
             "fillmode": "overlay",
             "size": 10,
             "solidity": 0.2
            },
            "type": "scatter"
           }
          ],
          "scatter3d": [
           {
            "line": {
             "colorbar": {
              "outlinewidth": 0,
              "ticks": ""
             }
            },
            "marker": {
             "colorbar": {
              "outlinewidth": 0,
              "ticks": ""
             }
            },
            "type": "scatter3d"
           }
          ],
          "scattercarpet": [
           {
            "marker": {
             "colorbar": {
              "outlinewidth": 0,
              "ticks": ""
             }
            },
            "type": "scattercarpet"
           }
          ],
          "scattergeo": [
           {
            "marker": {
             "colorbar": {
              "outlinewidth": 0,
              "ticks": ""
             }
            },
            "type": "scattergeo"
           }
          ],
          "scattergl": [
           {
            "marker": {
             "colorbar": {
              "outlinewidth": 0,
              "ticks": ""
             }
            },
            "type": "scattergl"
           }
          ],
          "scattermapbox": [
           {
            "marker": {
             "colorbar": {
              "outlinewidth": 0,
              "ticks": ""
             }
            },
            "type": "scattermapbox"
           }
          ],
          "scatterpolar": [
           {
            "marker": {
             "colorbar": {
              "outlinewidth": 0,
              "ticks": ""
             }
            },
            "type": "scatterpolar"
           }
          ],
          "scatterpolargl": [
           {
            "marker": {
             "colorbar": {
              "outlinewidth": 0,
              "ticks": ""
             }
            },
            "type": "scatterpolargl"
           }
          ],
          "scatterternary": [
           {
            "marker": {
             "colorbar": {
              "outlinewidth": 0,
              "ticks": ""
             }
            },
            "type": "scatterternary"
           }
          ],
          "surface": [
           {
            "colorbar": {
             "outlinewidth": 0,
             "ticks": ""
            },
            "colorscale": [
             [
              0,
              "#0d0887"
             ],
             [
              0.1111111111111111,
              "#46039f"
             ],
             [
              0.2222222222222222,
              "#7201a8"
             ],
             [
              0.3333333333333333,
              "#9c179e"
             ],
             [
              0.4444444444444444,
              "#bd3786"
             ],
             [
              0.5555555555555556,
              "#d8576b"
             ],
             [
              0.6666666666666666,
              "#ed7953"
             ],
             [
              0.7777777777777778,
              "#fb9f3a"
             ],
             [
              0.8888888888888888,
              "#fdca26"
             ],
             [
              1,
              "#f0f921"
             ]
            ],
            "type": "surface"
           }
          ],
          "table": [
           {
            "cells": {
             "fill": {
              "color": "#EBF0F8"
             },
             "line": {
              "color": "white"
             }
            },
            "header": {
             "fill": {
              "color": "#C8D4E3"
             },
             "line": {
              "color": "white"
             }
            },
            "type": "table"
           }
          ]
         },
         "layout": {
          "annotationdefaults": {
           "arrowcolor": "#2a3f5f",
           "arrowhead": 0,
           "arrowwidth": 1
          },
          "autotypenumbers": "strict",
          "coloraxis": {
           "colorbar": {
            "outlinewidth": 0,
            "ticks": ""
           }
          },
          "colorscale": {
           "diverging": [
            [
             0,
             "#8e0152"
            ],
            [
             0.1,
             "#c51b7d"
            ],
            [
             0.2,
             "#de77ae"
            ],
            [
             0.3,
             "#f1b6da"
            ],
            [
             0.4,
             "#fde0ef"
            ],
            [
             0.5,
             "#f7f7f7"
            ],
            [
             0.6,
             "#e6f5d0"
            ],
            [
             0.7,
             "#b8e186"
            ],
            [
             0.8,
             "#7fbc41"
            ],
            [
             0.9,
             "#4d9221"
            ],
            [
             1,
             "#276419"
            ]
           ],
           "sequential": [
            [
             0,
             "#0d0887"
            ],
            [
             0.1111111111111111,
             "#46039f"
            ],
            [
             0.2222222222222222,
             "#7201a8"
            ],
            [
             0.3333333333333333,
             "#9c179e"
            ],
            [
             0.4444444444444444,
             "#bd3786"
            ],
            [
             0.5555555555555556,
             "#d8576b"
            ],
            [
             0.6666666666666666,
             "#ed7953"
            ],
            [
             0.7777777777777778,
             "#fb9f3a"
            ],
            [
             0.8888888888888888,
             "#fdca26"
            ],
            [
             1,
             "#f0f921"
            ]
           ],
           "sequentialminus": [
            [
             0,
             "#0d0887"
            ],
            [
             0.1111111111111111,
             "#46039f"
            ],
            [
             0.2222222222222222,
             "#7201a8"
            ],
            [
             0.3333333333333333,
             "#9c179e"
            ],
            [
             0.4444444444444444,
             "#bd3786"
            ],
            [
             0.5555555555555556,
             "#d8576b"
            ],
            [
             0.6666666666666666,
             "#ed7953"
            ],
            [
             0.7777777777777778,
             "#fb9f3a"
            ],
            [
             0.8888888888888888,
             "#fdca26"
            ],
            [
             1,
             "#f0f921"
            ]
           ]
          },
          "colorway": [
           "#636efa",
           "#EF553B",
           "#00cc96",
           "#ab63fa",
           "#FFA15A",
           "#19d3f3",
           "#FF6692",
           "#B6E880",
           "#FF97FF",
           "#FECB52"
          ],
          "font": {
           "color": "#2a3f5f"
          },
          "geo": {
           "bgcolor": "white",
           "lakecolor": "white",
           "landcolor": "white",
           "showlakes": true,
           "showland": true,
           "subunitcolor": "#C8D4E3"
          },
          "hoverlabel": {
           "align": "left"
          },
          "hovermode": "closest",
          "mapbox": {
           "style": "light"
          },
          "paper_bgcolor": "white",
          "plot_bgcolor": "white",
          "polar": {
           "angularaxis": {
            "gridcolor": "#EBF0F8",
            "linecolor": "#EBF0F8",
            "ticks": ""
           },
           "bgcolor": "white",
           "radialaxis": {
            "gridcolor": "#EBF0F8",
            "linecolor": "#EBF0F8",
            "ticks": ""
           }
          },
          "scene": {
           "xaxis": {
            "backgroundcolor": "white",
            "gridcolor": "#DFE8F3",
            "gridwidth": 2,
            "linecolor": "#EBF0F8",
            "showbackground": true,
            "ticks": "",
            "zerolinecolor": "#EBF0F8"
           },
           "yaxis": {
            "backgroundcolor": "white",
            "gridcolor": "#DFE8F3",
            "gridwidth": 2,
            "linecolor": "#EBF0F8",
            "showbackground": true,
            "ticks": "",
            "zerolinecolor": "#EBF0F8"
           },
           "zaxis": {
            "backgroundcolor": "white",
            "gridcolor": "#DFE8F3",
            "gridwidth": 2,
            "linecolor": "#EBF0F8",
            "showbackground": true,
            "ticks": "",
            "zerolinecolor": "#EBF0F8"
           }
          },
          "shapedefaults": {
           "line": {
            "color": "#2a3f5f"
           }
          },
          "ternary": {
           "aaxis": {
            "gridcolor": "#DFE8F3",
            "linecolor": "#A2B1C6",
            "ticks": ""
           },
           "baxis": {
            "gridcolor": "#DFE8F3",
            "linecolor": "#A2B1C6",
            "ticks": ""
           },
           "bgcolor": "white",
           "caxis": {
            "gridcolor": "#DFE8F3",
            "linecolor": "#A2B1C6",
            "ticks": ""
           }
          },
          "title": {
           "x": 0.05
          },
          "xaxis": {
           "automargin": true,
           "gridcolor": "#EBF0F8",
           "linecolor": "#EBF0F8",
           "ticks": "",
           "title": {
            "standoff": 15
           },
           "zerolinecolor": "#EBF0F8",
           "zerolinewidth": 2
          },
          "yaxis": {
           "automargin": true,
           "gridcolor": "#EBF0F8",
           "linecolor": "#EBF0F8",
           "ticks": "",
           "title": {
            "standoff": 15
           },
           "zerolinecolor": "#EBF0F8",
           "zerolinewidth": 2
          }
         }
        },
        "title": {
         "text": "Mag-V"
        },
        "xaxis": {
         "anchor": "y",
         "domain": [
          0,
          1
         ],
         "nticks": 10,
         "title": {
          "text": "Volume [A^3]"
         }
        },
        "yaxis": {
         "anchor": "x",
         "domain": [
          0,
          1
         ],
         "nticks": 10,
         "title": {
          "text": "Magnetic Moment [mu_B]"
         }
        }
       }
      }
     },
     "metadata": {},
     "output_type": "display_data"
    },
    {
     "data": {
      "application/vnd.plotly.v1+json": {
       "config": {
        "plotlyServerURL": "https://plot.ly"
       },
       "data": [
        {
         "hovertemplate": "config=21<br>volume=%{x}<br>energy=%{y}<extra></extra>",
         "legendgroup": "21",
         "marker": {
          "color": "#636efa",
          "symbol": "circle"
         },
         "mode": "markers",
         "name": "21",
         "orientation": "v",
         "showlegend": true,
         "type": "scatter",
         "x": [
          270,
          270,
          270,
          270,
          270,
          270,
          270,
          270,
          277,
          277,
          277,
          277,
          277,
          277,
          277,
          277,
          284,
          284,
          284,
          284,
          284,
          284,
          284,
          284,
          291,
          291,
          291,
          291,
          291,
          291,
          291,
          291,
          298,
          298,
          298,
          298,
          298,
          298,
          298,
          298,
          305,
          305,
          305,
          305,
          305,
          305,
          305,
          305,
          312,
          312,
          312,
          312,
          312,
          312,
          312,
          312,
          319,
          319,
          319,
          319,
          319,
          319,
          319,
          319,
          326,
          326,
          326,
          326,
          326,
          326,
          326,
          326,
          333,
          333,
          333,
          333,
          333,
          333,
          333,
          333,
          340,
          340,
          340,
          340,
          340,
          340,
          340,
          340
         ],
         "xaxis": "x",
         "y": [
          -98.022151,
          -98.022151,
          -98.022151,
          -98.022151,
          -98.022151,
          -98.022151,
          -98.022151,
          -98.022151,
          -98.210057,
          -98.210057,
          -98.210057,
          -98.210057,
          -98.210057,
          -98.210057,
          -98.210057,
          -98.210057,
          -98.319345,
          -98.319345,
          -98.319345,
          -98.319345,
          -98.319345,
          -98.319345,
          -98.319345,
          -98.319345,
          -98.379794,
          -98.379794,
          -98.379794,
          -98.379794,
          -98.379794,
          -98.379794,
          -98.379794,
          -98.379794,
          -98.399774,
          -98.399774,
          -98.399774,
          -98.399774,
          -98.399774,
          -98.399774,
          -98.399774,
          -98.399774,
          -98.384586,
          -98.384586,
          -98.384586,
          -98.384586,
          -98.384586,
          -98.384586,
          -98.384586,
          -98.384586,
          -98.34298,
          -98.34298,
          -98.34298,
          -98.34298,
          -98.34298,
          -98.34298,
          -98.34298,
          -98.34298,
          -98.280954,
          -98.280954,
          -98.280954,
          -98.280954,
          -98.280954,
          -98.280954,
          -98.280954,
          -98.280954,
          -98.20405,
          -98.20405,
          -98.20405,
          -98.20405,
          -98.20405,
          -98.20405,
          -98.20405,
          -98.20405,
          -98.122893,
          -98.122893,
          -98.122893,
          -98.122893,
          -98.122893,
          -98.122893,
          -98.122893,
          -98.122893,
          -98.040875,
          -98.040875,
          -98.040875,
          -98.040875,
          -98.040875,
          -98.040875,
          -98.040875,
          -98.040875
         ],
         "yaxis": "y"
        },
        {
         "line": {
          "width": 1
         },
         "mode": "lines",
         "name": "mBM4 fit",
         "type": "scatter",
         "x": [
          270,
          270.0700700700701,
          270.14014014014015,
          270.2102102102102,
          270.2802802802803,
          270.35035035035037,
          270.42042042042044,
          270.4904904904905,
          270.5605605605606,
          270.6306306306306,
          270.7007007007007,
          270.77077077077075,
          270.8408408408408,
          270.9109109109109,
          270.980980980981,
          271.05105105105105,
          271.1211211211211,
          271.1911911911912,
          271.26126126126127,
          271.33133133133134,
          271.4014014014014,
          271.4714714714715,
          271.54154154154156,
          271.61161161161164,
          271.6816816816817,
          271.7517517517517,
          271.8218218218218,
          271.8918918918919,
          271.96196196196195,
          272.032032032032,
          272.1021021021021,
          272.17217217217217,
          272.24224224224224,
          272.3123123123123,
          272.3823823823824,
          272.45245245245246,
          272.52252252252254,
          272.5925925925926,
          272.6626626626627,
          272.73273273273276,
          272.80280280280283,
          272.87287287287285,
          272.9429429429429,
          273.013013013013,
          273.08308308308307,
          273.15315315315314,
          273.2232232232232,
          273.2932932932933,
          273.36336336336336,
          273.43343343343344,
          273.5035035035035,
          273.5735735735736,
          273.64364364364366,
          273.71371371371373,
          273.7837837837838,
          273.8538538538539,
          273.92392392392395,
          273.99399399399397,
          274.06406406406404,
          274.1341341341341,
          274.2042042042042,
          274.27427427427426,
          274.34434434434434,
          274.4144144144144,
          274.4844844844845,
          274.55455455455456,
          274.62462462462463,
          274.6946946946947,
          274.7647647647648,
          274.83483483483485,
          274.9049049049049,
          274.974974974975,
          275.0450450450451,
          275.1151151151151,
          275.18518518518516,
          275.25525525525524,
          275.3253253253253,
          275.3953953953954,
          275.46546546546546,
          275.53553553553553,
          275.6056056056056,
          275.6756756756757,
          275.74574574574575,
          275.8158158158158,
          275.8858858858859,
          275.955955955956,
          276.02602602602605,
          276.0960960960961,
          276.1661661661662,
          276.2362362362362,
          276.3063063063063,
          276.37637637637636,
          276.44644644644643,
          276.5165165165165,
          276.5865865865866,
          276.65665665665665,
          276.7267267267267,
          276.7967967967968,
          276.86686686686687,
          276.93693693693695,
          277.007007007007,
          277.0770770770771,
          277.14714714714717,
          277.21721721721724,
          277.2872872872873,
          277.35735735735733,
          277.4274274274274,
          277.4974974974975,
          277.56756756756755,
          277.6376376376376,
          277.7077077077077,
          277.77777777777777,
          277.84784784784785,
          277.9179179179179,
          277.987987987988,
          278.05805805805807,
          278.12812812812814,
          278.1981981981982,
          278.2682682682683,
          278.33833833833836,
          278.40840840840843,
          278.47847847847845,
          278.5485485485485,
          278.6186186186186,
          278.68868868868867,
          278.75875875875874,
          278.8288288288288,
          278.8988988988989,
          278.96896896896897,
          279.03903903903904,
          279.1091091091091,
          279.1791791791792,
          279.24924924924926,
          279.31931931931933,
          279.3893893893894,
          279.4594594594595,
          279.52952952952955,
          279.5995995995996,
          279.66966966966964,
          279.7397397397397,
          279.8098098098098,
          279.87987987987987,
          279.94994994994994,
          280.02002002002,
          280.0900900900901,
          280.16016016016016,
          280.23023023023023,
          280.3003003003003,
          280.3703703703704,
          280.44044044044045,
          280.5105105105105,
          280.5805805805806,
          280.6506506506507,
          280.7207207207207,
          280.79079079079077,
          280.86086086086084,
          280.9309309309309,
          281.001001001001,
          281.07107107107106,
          281.14114114114113,
          281.2112112112112,
          281.2812812812813,
          281.35135135135135,
          281.4214214214214,
          281.4914914914915,
          281.5615615615616,
          281.63163163163165,
          281.7017017017017,
          281.7717717717718,
          281.84184184184187,
          281.9119119119119,
          281.98198198198196,
          282.05205205205203,
          282.1221221221221,
          282.1921921921922,
          282.26226226226225,
          282.3323323323323,
          282.4024024024024,
          282.4724724724725,
          282.54254254254255,
          282.6126126126126,
          282.6826826826827,
          282.75275275275277,
          282.82282282282284,
          282.8928928928929,
          282.962962962963,
          283.033033033033,
          283.1031031031031,
          283.17317317317315,
          283.2432432432432,
          283.3133133133133,
          283.3833833833834,
          283.45345345345345,
          283.5235235235235,
          283.5935935935936,
          283.66366366366367,
          283.73373373373374,
          283.8038038038038,
          283.8738738738739,
          283.94394394394396,
          284.01401401401404,
          284.0840840840841,
          284.1541541541541,
          284.2242242242242,
          284.2942942942943,
          284.36436436436435,
          284.4344344344344,
          284.5045045045045,
          284.57457457457457,
          284.64464464464464,
          284.7147147147147,
          284.7847847847848,
          284.85485485485486,
          284.92492492492494,
          284.994994994995,
          285.0650650650651,
          285.13513513513516,
          285.20520520520523,
          285.27527527527525,
          285.3453453453453,
          285.4154154154154,
          285.48548548548547,
          285.55555555555554,
          285.6256256256256,
          285.6956956956957,
          285.76576576576576,
          285.83583583583584,
          285.9059059059059,
          285.975975975976,
          286.04604604604606,
          286.11611611611613,
          286.1861861861862,
          286.2562562562563,
          286.32632632632635,
          286.3963963963964,
          286.46646646646644,
          286.5365365365365,
          286.6066066066066,
          286.67667667667666,
          286.74674674674674,
          286.8168168168168,
          286.8868868868869,
          286.95695695695696,
          287.02702702702703,
          287.0970970970971,
          287.1671671671672,
          287.23723723723725,
          287.3073073073073,
          287.3773773773774,
          287.4474474474475,
          287.5175175175175,
          287.58758758758756,
          287.65765765765764,
          287.7277277277277,
          287.7977977977978,
          287.86786786786786,
          287.93793793793793,
          288.008008008008,
          288.0780780780781,
          288.14814814814815,
          288.2182182182182,
          288.2882882882883,
          288.3583583583584,
          288.42842842842845,
          288.4984984984985,
          288.5685685685686,
          288.63863863863867,
          288.7087087087087,
          288.77877877877876,
          288.84884884884883,
          288.9189189189189,
          288.988988988989,
          289.05905905905905,
          289.1291291291291,
          289.1991991991992,
          289.2692692692693,
          289.33933933933935,
          289.4094094094094,
          289.4794794794795,
          289.54954954954957,
          289.61961961961964,
          289.6896896896897,
          289.75975975975973,
          289.8298298298298,
          289.8998998998999,
          289.96996996996995,
          290.04004004004,
          290.1101101101101,
          290.1801801801802,
          290.25025025025025,
          290.3203203203203,
          290.3903903903904,
          290.46046046046047,
          290.53053053053054,
          290.6006006006006,
          290.6706706706707,
          290.74074074074076,
          290.81081081081084,
          290.8808808808809,
          290.9509509509509,
          291.021021021021,
          291.0910910910911,
          291.16116116116115,
          291.2312312312312,
          291.3013013013013,
          291.37137137137137,
          291.44144144144144,
          291.5115115115115,
          291.5815815815816,
          291.65165165165166,
          291.72172172172174,
          291.7917917917918,
          291.8618618618619,
          291.93193193193196,
          292.002002002002,
          292.07207207207205,
          292.1421421421421,
          292.2122122122122,
          292.28228228228227,
          292.35235235235234,
          292.4224224224224,
          292.4924924924925,
          292.56256256256256,
          292.63263263263264,
          292.7027027027027,
          292.7727727727728,
          292.84284284284286,
          292.91291291291293,
          292.982982982983,
          293.0530530530531,
          293.12312312312315,
          293.1931931931932,
          293.26326326326324,
          293.3333333333333,
          293.4034034034034,
          293.47347347347346,
          293.54354354354354,
          293.6136136136136,
          293.6836836836837,
          293.75375375375376,
          293.82382382382383,
          293.8938938938939,
          293.963963963964,
          294.03403403403405,
          294.1041041041041,
          294.1741741741742,
          294.24424424424427,
          294.3143143143143,
          294.38438438438436,
          294.45445445445444,
          294.5245245245245,
          294.5945945945946,
          294.66466466466466,
          294.73473473473473,
          294.8048048048048,
          294.8748748748749,
          294.94494494494495,
          295.015015015015,
          295.0850850850851,
          295.15515515515517,
          295.22522522522524,
          295.2952952952953,
          295.3653653653654,
          295.43543543543547,
          295.5055055055055,
          295.57557557557556,
          295.64564564564563,
          295.7157157157157,
          295.7857857857858,
          295.85585585585585,
          295.9259259259259,
          295.995995995996,
          296.06606606606607,
          296.13613613613614,
          296.2062062062062,
          296.2762762762763,
          296.34634634634637,
          296.41641641641644,
          296.4864864864865,
          296.55655655655653,
          296.6266266266266,
          296.6966966966967,
          296.76676676676675,
          296.8368368368368,
          296.9069069069069,
          296.97697697697697,
          297.04704704704704,
          297.1171171171171,
          297.1871871871872,
          297.25725725725727,
          297.32732732732734,
          297.3973973973974,
          297.4674674674675,
          297.53753753753756,
          297.60760760760763,
          297.6776776776777,
          297.7477477477477,
          297.8178178178178,
          297.88788788788787,
          297.95795795795794,
          298.028028028028,
          298.0980980980981,
          298.16816816816817,
          298.23823823823824,
          298.3083083083083,
          298.3783783783784,
          298.44844844844846,
          298.51851851851853,
          298.5885885885886,
          298.6586586586587,
          298.72872872872875,
          298.79879879879877,
          298.86886886886884,
          298.9389389389389,
          299.009009009009,
          299.07907907907907,
          299.14914914914914,
          299.2192192192192,
          299.2892892892893,
          299.35935935935936,
          299.42942942942943,
          299.4994994994995,
          299.5695695695696,
          299.63963963963965,
          299.7097097097097,
          299.7797797797798,
          299.8498498498499,
          299.91991991991995,
          299.98998998998997,
          300.06006006006004,
          300.1301301301301,
          300.2002002002002,
          300.27027027027026,
          300.34034034034033,
          300.4104104104104,
          300.4804804804805,
          300.55055055055055,
          300.6206206206206,
          300.6906906906907,
          300.7607607607608,
          300.83083083083085,
          300.9009009009009,
          300.970970970971,
          301.041041041041,
          301.1111111111111,
          301.18118118118116,
          301.25125125125123,
          301.3213213213213,
          301.3913913913914,
          301.46146146146145,
          301.5315315315315,
          301.6016016016016,
          301.6716716716717,
          301.74174174174175,
          301.8118118118118,
          301.8818818818819,
          301.95195195195197,
          302.02202202202204,
          302.0920920920921,
          302.1621621621622,
          302.23223223223226,
          302.3023023023023,
          302.37237237237235,
          302.4424424424424,
          302.5125125125125,
          302.5825825825826,
          302.65265265265265,
          302.7227227227227,
          302.7927927927928,
          302.86286286286287,
          302.93293293293294,
          303.003003003003,
          303.0730730730731,
          303.14314314314316,
          303.21321321321324,
          303.28328328328325,
          303.3533533533533,
          303.4234234234234,
          303.4934934934935,
          303.56356356356355,
          303.6336336336336,
          303.7037037037037,
          303.77377377377377,
          303.84384384384384,
          303.9139139139139,
          303.983983983984,
          304.05405405405406,
          304.12412412412414,
          304.1941941941942,
          304.2642642642643,
          304.33433433433436,
          304.40440440440443,
          304.4744744744745,
          304.5445445445445,
          304.6146146146146,
          304.68468468468467,
          304.75475475475474,
          304.8248248248248,
          304.8948948948949,
          304.96496496496496,
          305.03503503503504,
          305.1051051051051,
          305.1751751751752,
          305.24524524524526,
          305.31531531531533,
          305.3853853853854,
          305.4554554554555,
          305.5255255255255,
          305.59559559559557,
          305.66566566566564,
          305.7357357357357,
          305.8058058058058,
          305.87587587587586,
          305.94594594594594,
          306.016016016016,
          306.0860860860861,
          306.15615615615616,
          306.22622622622623,
          306.2962962962963,
          306.3663663663664,
          306.43643643643645,
          306.5065065065065,
          306.5765765765766,
          306.6466466466467,
          306.71671671671675,
          306.7867867867868,
          306.85685685685684,
          306.9269269269269,
          306.996996996997,
          307.06706706706706,
          307.13713713713713,
          307.2072072072072,
          307.2772772772773,
          307.34734734734735,
          307.4174174174174,
          307.4874874874875,
          307.5575575575576,
          307.62762762762765,
          307.6976976976977,
          307.7677677677678,
          307.8378378378378,
          307.9079079079079,
          307.97797797797796,
          308.04804804804803,
          308.1181181181181,
          308.1881881881882,
          308.25825825825825,
          308.3283283283283,
          308.3983983983984,
          308.4684684684685,
          308.53853853853855,
          308.6086086086086,
          308.6786786786787,
          308.74874874874877,
          308.81881881881884,
          308.8888888888889,
          308.958958958959,
          309.02902902902906,
          309.0990990990991,
          309.16916916916915,
          309.2392392392392,
          309.3093093093093,
          309.3793793793794,
          309.44944944944945,
          309.5195195195195,
          309.5895895895896,
          309.65965965965967,
          309.72972972972974,
          309.7997997997998,
          309.8698698698699,
          309.93993993993996,
          310.01001001001003,
          310.08008008008005,
          310.1501501501501,
          310.2202202202202,
          310.2902902902903,
          310.36036036036035,
          310.4304304304304,
          310.5005005005005,
          310.57057057057057,
          310.64064064064064,
          310.7107107107107,
          310.7807807807808,
          310.85085085085086,
          310.92092092092093,
          310.990990990991,
          311.0610610610611,
          311.13113113113116,
          311.20120120120123,
          311.2712712712713,
          311.3413413413413,
          311.4114114114114,
          311.48148148148147,
          311.55155155155154,
          311.6216216216216,
          311.6916916916917,
          311.76176176176176,
          311.83183183183183,
          311.9019019019019,
          311.971971971972,
          312.04204204204206,
          312.11211211211213,
          312.1821821821822,
          312.2522522522523,
          312.3223223223223,
          312.39239239239237,
          312.46246246246244,
          312.5325325325325,
          312.6026026026026,
          312.67267267267266,
          312.74274274274273,
          312.8128128128128,
          312.8828828828829,
          312.95295295295296,
          313.02302302302303,
          313.0930930930931,
          313.1631631631632,
          313.23323323323325,
          313.3033033033033,
          313.3733733733734,
          313.44344344344347,
          313.51351351351354,
          313.58358358358356,
          313.65365365365363,
          313.7237237237237,
          313.7937937937938,
          313.86386386386386,
          313.93393393393393,
          314.004004004004,
          314.0740740740741,
          314.14414414414415,
          314.2142142142142,
          314.2842842842843,
          314.35435435435437,
          314.42442442442444,
          314.4944944944945,
          314.56456456456453,
          314.6346346346346,
          314.7047047047047,
          314.77477477477476,
          314.84484484484483,
          314.9149149149149,
          314.984984984985,
          315.05505505505505,
          315.1251251251251,
          315.1951951951952,
          315.26526526526527,
          315.33533533533534,
          315.4054054054054,
          315.4754754754755,
          315.54554554554556,
          315.61561561561564,
          315.6856856856857,
          315.7557557557558,
          315.82582582582586,
          315.8958958958959,
          315.96596596596595,
          316.036036036036,
          316.1061061061061,
          316.17617617617617,
          316.24624624624624,
          316.3163163163163,
          316.3863863863864,
          316.45645645645646,
          316.52652652652654,
          316.5965965965966,
          316.6666666666667,
          316.73673673673676,
          316.80680680680683,
          316.87687687687685,
          316.9469469469469,
          317.017017017017,
          317.08708708708707,
          317.15715715715714,
          317.2272272272272,
          317.2972972972973,
          317.36736736736736,
          317.43743743743744,
          317.5075075075075,
          317.5775775775776,
          317.64764764764766,
          317.71771771771773,
          317.7877877877878,
          317.8578578578579,
          317.92792792792795,
          317.997997997998,
          318.0680680680681,
          318.1381381381381,
          318.2082082082082,
          318.27827827827826,
          318.34834834834834,
          318.4184184184184,
          318.4884884884885,
          318.55855855855856,
          318.62862862862863,
          318.6986986986987,
          318.7687687687688,
          318.83883883883885,
          318.9089089089089,
          318.978978978979,
          319.0490490490491,
          319.1191191191191,
          319.18918918918916,
          319.25925925925924,
          319.3293293293293,
          319.3993993993994,
          319.46946946946946,
          319.53953953953953,
          319.6096096096096,
          319.6796796796797,
          319.74974974974975,
          319.8198198198198,
          319.8898898898899,
          319.95995995996,
          320.03003003003005,
          320.1001001001001,
          320.1701701701702,
          320.24024024024027,
          320.31031031031034,
          320.38038038038036,
          320.45045045045043,
          320.5205205205205,
          320.5905905905906,
          320.66066066066065,
          320.7307307307307,
          320.8008008008008,
          320.8708708708709,
          320.94094094094095,
          321.011011011011,
          321.0810810810811,
          321.15115115115117,
          321.22122122122124,
          321.2912912912913,
          321.36136136136133,
          321.4314314314314,
          321.5015015015015,
          321.57157157157155,
          321.6416416416416,
          321.7117117117117,
          321.7817817817818,
          321.85185185185185,
          321.9219219219219,
          321.991991991992,
          322.06206206206207,
          322.13213213213214,
          322.2022022022022,
          322.2722722722723,
          322.34234234234236,
          322.41241241241244,
          322.4824824824825,
          322.5525525525526,
          322.6226226226226,
          322.6926926926927,
          322.76276276276275,
          322.8328328328328,
          322.9029029029029,
          322.97297297297297,
          323.04304304304304,
          323.1131131131131,
          323.1831831831832,
          323.25325325325326,
          323.32332332332334,
          323.3933933933934,
          323.4634634634635,
          323.53353353353356,
          323.6036036036036,
          323.67367367367365,
          323.7437437437437,
          323.8138138138138,
          323.88388388388387,
          323.95395395395394,
          324.024024024024,
          324.0940940940941,
          324.16416416416416,
          324.23423423423424,
          324.3043043043043,
          324.3743743743744,
          324.44444444444446,
          324.51451451451453,
          324.5845845845846,
          324.6546546546547,
          324.72472472472475,
          324.7947947947948,
          324.8648648648649,
          324.9349349349349,
          325.005005005005,
          325.07507507507506,
          325.14514514514514,
          325.2152152152152,
          325.2852852852853,
          325.35535535535536,
          325.42542542542543,
          325.4954954954955,
          325.5655655655656,
          325.63563563563565,
          325.7057057057057,
          325.7757757757758,
          325.8458458458459,
          325.9159159159159,
          325.98598598598596,
          326.05605605605604,
          326.1261261261261,
          326.1961961961962,
          326.26626626626626,
          326.33633633633633,
          326.4064064064064,
          326.4764764764765,
          326.54654654654655,
          326.6166166166166,
          326.6866866866867,
          326.7567567567568,
          326.82682682682685,
          326.8968968968969,
          326.966966966967,
          327.03703703703707,
          327.10710710710714,
          327.17717717717716,
          327.24724724724723,
          327.3173173173173,
          327.3873873873874,
          327.45745745745745,
          327.5275275275275,
          327.5975975975976,
          327.6676676676677,
          327.73773773773775,
          327.8078078078078,
          327.8778778778779,
          327.94794794794797,
          328.01801801801804,
          328.0880880880881,
          328.15815815815813,
          328.2282282282282,
          328.2982982982983,
          328.36836836836835,
          328.4384384384384,
          328.5085085085085,
          328.5785785785786,
          328.64864864864865,
          328.7187187187187,
          328.7887887887888,
          328.85885885885887,
          328.92892892892894,
          328.998998998999,
          329.0690690690691,
          329.13913913913916,
          329.20920920920923,
          329.2792792792793,
          329.3493493493494,
          329.4194194194194,
          329.4894894894895,
          329.55955955955955,
          329.6296296296296,
          329.6996996996997,
          329.76976976976977,
          329.83983983983984,
          329.9099099099099,
          329.97997997998,
          330.05005005005006,
          330.12012012012013,
          330.1901901901902,
          330.2602602602603,
          330.33033033033036,
          330.4004004004004,
          330.47047047047045,
          330.5405405405405,
          330.6106106106106,
          330.68068068068067,
          330.75075075075074,
          330.8208208208208,
          330.8908908908909,
          330.96096096096096,
          331.03103103103103,
          331.1011011011011,
          331.1711711711712,
          331.24124124124126,
          331.31131131131133,
          331.3813813813814,
          331.4514514514515,
          331.52152152152155,
          331.5915915915916,
          331.66166166166164,
          331.7317317317317,
          331.8018018018018,
          331.87187187187186,
          331.94194194194193,
          332.012012012012,
          332.0820820820821,
          332.15215215215215,
          332.22222222222223,
          332.2922922922923,
          332.3623623623624,
          332.43243243243245,
          332.5025025025025,
          332.5725725725726,
          332.6426426426426,
          332.7127127127127,
          332.78278278278276,
          332.85285285285283,
          332.9229229229229,
          332.992992992993,
          333.06306306306305,
          333.13313313313313,
          333.2032032032032,
          333.2732732732733,
          333.34334334334335,
          333.4134134134134,
          333.4834834834835,
          333.55355355355357,
          333.62362362362364,
          333.6936936936937,
          333.7637637637638,
          333.83383383383386,
          333.90390390390394,
          333.97397397397395,
          334.044044044044,
          334.1141141141141,
          334.1841841841842,
          334.25425425425425,
          334.3243243243243,
          334.3943943943944,
          334.46446446446447,
          334.53453453453454,
          334.6046046046046,
          334.6746746746747,
          334.74474474474476,
          334.81481481481484,
          334.88488488488485,
          334.9549549549549,
          335.025025025025,
          335.0950950950951,
          335.16516516516515,
          335.2352352352352,
          335.3053053053053,
          335.37537537537537,
          335.44544544544544,
          335.5155155155155,
          335.5855855855856,
          335.65565565565566,
          335.72572572572574,
          335.7957957957958,
          335.8658658658659,
          335.93593593593596,
          336.00600600600603,
          336.0760760760761,
          336.1461461461462,
          336.21621621621625,
          336.28628628628627,
          336.35635635635634,
          336.4264264264264,
          336.4964964964965,
          336.56656656656656,
          336.63663663663664,
          336.7067067067067,
          336.7767767767768,
          336.84684684684686,
          336.91691691691693,
          336.986986986987,
          337.0570570570571,
          337.1271271271271,
          337.19719719719717,
          337.26726726726724,
          337.3373373373373,
          337.4074074074074,
          337.47747747747746,
          337.54754754754754,
          337.6176176176176,
          337.6876876876877,
          337.75775775775776,
          337.82782782782783,
          337.8978978978979,
          337.967967967968,
          338.03803803803805,
          338.1081081081081,
          338.1781781781782,
          338.2482482482483,
          338.31831831831835,
          338.3883883883884,
          338.4584584584585,
          338.5285285285285,
          338.5985985985986,
          338.66866866866866,
          338.73873873873873,
          338.8088088088088,
          338.8788788788789,
          338.94894894894895,
          339.019019019019,
          339.0890890890891,
          339.1591591591592,
          339.22922922922925,
          339.2992992992993,
          339.36936936936934,
          339.4394394394394,
          339.5095095095095,
          339.57957957957956,
          339.64964964964963,
          339.7197197197197,
          339.7897897897898,
          339.85985985985985,
          339.9299299299299,
          340
         ],
         "y": [
          -98.02334226876746,
          -98.02555575582574,
          -98.02776097666492,
          -98.02995794783192,
          -98.03214668585042,
          -98.03432720721412,
          -98.03649952839396,
          -98.03866366583043,
          -98.04081963594217,
          -98.04296745511692,
          -98.04510713971649,
          -98.04723870608314,
          -98.04936217052227,
          -98.05147754931977,
          -98.05358485873694,
          -98.05568411500371,
          -98.05777533432956,
          -98.05985853288894,
          -98.06193372684265,
          -98.06400093231377,
          -98.066060165409,
          -98.06811144220319,
          -98.07015477874756,
          -98.07219019106651,
          -98.07421769516077,
          -98.07623730700425,
          -98.07824904254403,
          -98.08025291770537,
          -98.08224894838213,
          -98.08423715044592,
          -98.08621753974649,
          -98.08819013210177,
          -98.0901549433056,
          -98.09211198913181,
          -98.09406128532373,
          -98.09600284760063,
          -98.0979366916581,
          -98.09986283316312,
          -98.10178128776033,
          -98.10369207107033,
          -98.10559519868502,
          -98.10749068617497,
          -98.10937854908525,
          -98.11125880293366,
          -98.11313146321345,
          -98.11499654539512,
          -98.11685406492461,
          -98.11870403722014,
          -98.12054647767945,
          -98.12238140166983,
          -98.1242088245408,
          -98.12602876161236,
          -98.12784122817948,
          -98.1296462395162,
          -98.13144381087204,
          -98.13323395747011,
          -98.13501669450898,
          -98.13679203716492,
          -98.13856000058604,
          -98.1403205999004,
          -98.14207385021018,
          -98.14381976659342,
          -98.14555836410364,
          -98.14728965777067,
          -98.14901366260256,
          -98.15073039357776,
          -98.1524398656561,
          -98.15414209377195,
          -98.15583709283419,
          -98.15752487773125,
          -98.1592054633229,
          -98.16087886444893,
          -98.16254509592409,
          -98.1642041725404,
          -98.16585610906486,
          -98.16750092024267,
          -98.16913862079264,
          -98.1707692254131,
          -98.17239274877784,
          -98.17400920553428,
          -98.17561861031254,
          -98.17722097771411,
          -98.17881632231774,
          -98.18040465868307,
          -98.18198600134292,
          -98.183560364806,
          -98.18512776355874,
          -98.18668821206711,
          -98.18824172477161,
          -98.18978831608865,
          -98.19132800041552,
          -98.19286079212225,
          -98.19438670555655,
          -98.19590575504526,
          -98.19741795489381,
          -98.19892331937899,
          -98.20042186276032,
          -98.20191359927048,
          -98.20339854312624,
          -98.20487670851071,
          -98.20634810959473,
          -98.20781276051957,
          -98.20927067541061,
          -98.21072186836273,
          -98.21216635345536,
          -98.21360414474066,
          -98.21503525625076,
          -98.21645970199552,
          -98.21787749596206,
          -98.2192886521143,
          -98.2206931843939,
          -98.22209110672293,
          -98.22348243299757,
          -98.2248671770949,
          -98.22624535286786,
          -98.22761697414808,
          -98.22898205474394,
          -98.23034060844475,
          -98.23169264901708,
          -98.23303819020157,
          -98.23437724572341,
          -98.23570982927777,
          -98.23703595454617,
          -98.23835563518514,
          -98.23966888482846,
          -98.24097571708626,
          -98.24227614555366,
          -98.24357018379897,
          -98.2448578453691,
          -98.24613914379097,
          -98.2474140925674,
          -98.24868270518391,
          -98.24994499510194,
          -98.25120097576155,
          -98.25245066058142,
          -98.25369406296068,
          -98.25493119627436,
          -98.25616207387384,
          -98.25738670909868,
          -98.25860511525934,
          -98.25981730564536,
          -98.26102329352852,
          -98.26222309215746,
          -98.26341671475984,
          -98.26460417454427,
          -98.26578548469388,
          -98.26696065837587,
          -98.26812970873152,
          -98.26929264888713,
          -98.27044949194214,
          -98.27160025098101,
          -98.27274493906225,
          -98.27388356922347,
          -98.27501615448682,
          -98.2761427078508,
          -98.27726324229116,
          -98.27837777076456,
          -98.2794863062104,
          -98.28058886154349,
          -98.28168544965729,
          -98.28277608342705,
          -98.28386077570849,
          -98.28493953933503,
          -98.28601238712008,
          -98.2870793318566,
          -98.28814038631754,
          -98.28919556325445,
          -98.29024487540164,
          -98.29128833547065,
          -98.29232595615167,
          -98.29335775011805,
          -98.29438373002085,
          -98.2954039084907,
          -98.29641829814,
          -98.2974269115598,
          -98.29842976132295,
          -98.29942685997776,
          -98.30041822005751,
          -98.30140385407367,
          -98.30238377451792,
          -98.30335799386171,
          -98.30432652455602,
          -98.30528937903682,
          -98.30624656971327,
          -98.30719810897926,
          -98.30814400920644,
          -98.30908428275097,
          -98.31001894194515,
          -98.31094799910329,
          -98.3118714665195,
          -98.31278935647151,
          -98.3137016812127,
          -98.31460845298216,
          -98.31550968399279,
          -98.31640538644479,
          -98.31729557251651,
          -98.31818025436519,
          -98.31905944413029,
          -98.31993315393402,
          -98.32080139587652,
          -98.32166418203883,
          -98.32252152448564,
          -98.32337343525955,
          -98.32421992638365,
          -98.32506100986461,
          -98.32589669768868,
          -98.32672700182388,
          -98.32755193421599,
          -98.32837150679711,
          -98.32918573147867,
          -98.32999462014823,
          -98.33079818468264,
          -98.33159643693216,
          -98.3323893887341,
          -98.33317705190552,
          -98.33395943824257,
          -98.33473655952389,
          -98.33550842751106,
          -98.33627505394543,
          -98.33703645054948,
          -98.33779262902794,
          -98.3385436010667,
          -98.3392893783332,
          -98.3400299724774,
          -98.34076539512648,
          -98.34149565789676,
          -98.342220772377,
          -98.34294075014736,
          -98.34365560276092,
          -98.34436534175825,
          -98.34506997865947,
          -98.34576952496423,
          -98.34646399216194,
          -98.34715339171066,
          -98.34783773506342,
          -98.34851703364939,
          -98.34919129887703,
          -98.34986054213982,
          -98.35052477481713,
          -98.35118400826036,
          -98.35183825381228,
          -98.35248752279199,
          -98.35313182650384,
          -98.35377117623398,
          -98.35440558324763,
          -98.35503505879524,
          -98.35565961411021,
          -98.35627926040638,
          -98.35689400887713,
          -98.3575038707038,
          -98.35810885704609,
          -98.35870897904738,
          -98.35930424783396,
          -98.3598946745135,
          -98.36048027017546,
          -98.36106104589385,
          -98.36163701272153,
          -98.36220818169977,
          -98.36277456384755,
          -98.36333617016703,
          -98.36389301164468,
          -98.36444509924604,
          -98.3649924439269,
          -98.36553505661595,
          -98.3660729482292,
          -98.36660612967057,
          -98.36713461181739,
          -98.36765840553358,
          -98.36817752167008,
          -98.36869197105398,
          -98.3692017644978,
          -98.36970691280067,
          -98.37020742673758,
          -98.3707033170715,
          -98.37119459454789,
          -98.371681269894,
          -98.37216335381936,
          -98.37264085702054,
          -98.37311379017297,
          -98.37358216393454,
          -98.37404598895068,
          -98.37450527584701,
          -98.37496003523324,
          -98.37541027770226,
          -98.37585601382989,
          -98.3762972541756,
          -98.37673400928111,
          -98.37716628967314,
          -98.37759410585886,
          -98.37801746833361,
          -98.37843638757386,
          -98.37885087403697,
          -98.37926093816532,
          -98.37966659038761,
          -98.38006784111394,
          -98.38046470073436,
          -98.38085717963054,
          -98.3812452881591,
          -98.38162903666648,
          -98.38200843548111,
          -98.38238349491303,
          -98.38275422525908,
          -98.38312063679632,
          -98.3834827397909,
          -98.38384054448647,
          -98.3841940611128,
          -98.38454329988849,
          -98.38488827100764,
          -98.3852289846534,
          -98.385565450993,
          -98.38589768017414,
          -98.38622568233154,
          -98.38654946758379,
          -98.38686904603105,
          -98.38718442776144,
          -98.38749562284352,
          -98.38780264133061,
          -98.38810549326217,
          -98.38840418865925,
          -98.38869873753015,
          -98.38898914986476,
          -98.38927543563773,
          -98.38955760480735,
          -98.38983566731827,
          -98.39010963309829,
          -98.3903795120566,
          -98.39064531409554,
          -98.3909070490904,
          -98.39116472690762,
          -98.39141835739747,
          -98.39166795039341,
          -98.39191351571594,
          -98.39215506316532,
          -98.39239260252907,
          -98.39262614358131,
          -98.39285569607614,
          -98.39308126975789,
          -98.39330287434973,
          -98.39352051956348,
          -98.3937342150939,
          -98.39394397062051,
          -98.39414979580874,
          -98.39435170030674,
          -98.39454969374833,
          -98.39474378575483,
          -98.39493398592776,
          -98.39512030385481,
          -98.39530274911158,
          -98.3954813312555,
          -98.39565605983012,
          -98.39582694436126,
          -98.39599399436565,
          -98.39615721933865,
          -98.39631662876559,
          -98.39647223211159,
          -98.39662403883221,
          -98.39677205836415,
          -98.3969163001318,
          -98.39705677354414,
          -98.39719348799213,
          -98.39732645285699,
          -98.39745567750242,
          -98.3975811712778,
          -98.39770294351706,
          -98.3978210035391,
          -98.39793536065099,
          -98.3980460241412,
          -98.398153003287,
          -98.39825630734822,
          -98.39835594557007,
          -98.3984519271878,
          -98.39854426141619,
          -98.39863295746045,
          -98.39871802450398,
          -98.39879947172608,
          -98.39887730828195,
          -98.39895154331839,
          -98.39902218596603,
          -98.39908924533916,
          -98.39915273053953,
          -98.39921265065823,
          -98.39926901476247,
          -98.39932183191354,
          -98.39937111115637,
          -98.39941686151883,
          -98.39945909201992,
          -98.39949781165774,
          -98.39953302942217,
          -98.3995647542854,
          -98.39959299520547,
          -98.3996177611291,
          -98.39963906098569,
          -98.3996569036924,
          -98.39967129815159,
          -98.39968225325265,
          -98.39968977786953,
          -98.3996938808632,
          -98.39969457107986,
          -98.39969185735231,
          -98.39968574849718,
          -98.3996762533227,
          -98.39966338061868,
          -98.39964713916083,
          -98.39962753771374,
          -98.39960458502628,
          -98.39957828983506,
          -98.39954866085827,
          -98.39951570680705,
          -98.39947943637549,
          -98.3994398582438,
          -98.39939698107992,
          -98.39935081353406,
          -98.39930136424937,
          -98.39924864184923,
          -98.39919265494632,
          -98.39913341214151,
          -98.39907092201724,
          -98.39900519314642,
          -98.39893623408761,
          -98.39886405338598,
          -98.39878865956939,
          -98.39871006115936,
          -98.39862826665808,
          -98.3985432845584,
          -98.39845512333522,
          -98.3983637914539,
          -98.39826929736523,
          -98.39817164950796,
          -98.3980708563031,
          -98.39796692616346,
          -98.39785986748643,
          -98.39774968865731,
          -98.39763639804528,
          -98.39752000400881,
          -98.39740051489343,
          -98.39727793902944,
          -98.39715228473824,
          -98.39702356032103,
          -98.39689177407195,
          -98.3967569342708,
          -98.39661904918307,
          -98.39647812706085,
          -98.3963341761455,
          -98.39618720466547,
          -98.3960372208312,
          -98.39588423284613,
          -98.39572824889774,
          -98.39556927716126,
          -98.39540732579849,
          -98.39524240296123,
          -98.39507451678355,
          -98.39490367538883,
          -98.39472988689249,
          -98.39455315938767,
          -98.39437350096364,
          -98.39419091969057,
          -98.39400542362819,
          -98.39381702082505,
          -98.39362571931633,
          -98.3934315271224,
          -98.39323445225273,
          -98.39303450270495,
          -98.39283168646193,
          -98.39262601149494,
          -98.39241748576455,
          -98.39220611721453,
          -98.39199191378066,
          -98.39177488338441,
          -98.39155503393295,
          -98.39133237332226,
          -98.39110690943721,
          -98.39087865014994,
          -98.39064760331667,
          -98.39041377678654,
          -98.39017717839374,
          -98.38993781595968,
          -98.38969569729215,
          -98.38945083018916,
          -98.38920322243757,
          -98.38895288180856,
          -98.38869981606194,
          -98.38844403294638,
          -98.38818554019667,
          -98.3879243455392,
          -98.38766045668308,
          -98.38739388132785,
          -98.38712462716217,
          -98.38685270185965,
          -98.38657811308417,
          -98.38630086848411,
          -98.3860209757022,
          -98.38573844236475,
          -98.38545327608244,
          -98.38516548446205,
          -98.38487507509149,
          -98.38458205555162,
          -98.38428643340785,
          -98.38398821621718,
          -98.38368741151953,
          -98.38338402684735,
          -98.38307806972102,
          -98.38276954764547,
          -98.38245846811833,
          -98.38214483862157,
          -98.38182866662851,
          -98.38150995959813,
          -98.38118872497603,
          -98.38086497020527,
          -98.38053870270505,
          -98.3802099298905,
          -98.37987865916352,
          -98.37954489791196,
          -98.37920865351657,
          -98.37886993334018,
          -98.37852874473992,
          -98.37818509505769,
          -98.37783899162764,
          -98.37749044176803,
          -98.37713945278597,
          -98.37678603197969,
          -98.3764301866347,
          -98.37607192402379,
          -98.37571125141176,
          -98.37534817604887,
          -98.3749827051713,
          -98.37461484601135,
          -98.3742446057845,
          -98.37387199169461,
          -98.3734970109374,
          -98.37311967069263,
          -98.37273997813736,
          -98.37235794042454,
          -98.37197356470574,
          -98.37158685812074,
          -98.37119782779087,
          -98.37080648083543,
          -98.37041282435553,
          -98.37001686544363,
          -98.36961861118061,
          -98.36921806863893,
          -98.36881524487399,
          -98.36841014693573,
          -98.36800278186001,
          -98.36759315667109,
          -98.36718127838617,
          -98.366767154007,
          -98.36635079052508,
          -98.3659321949226,
          -98.36551137416859,
          -98.36508833522453,
          -98.36466308503645,
          -98.36423563054063,
          -98.36380597866719,
          -98.3633741363276,
          -98.36294011042855,
          -98.36250390786176,
          -98.36206553551051,
          -98.3616250002492,
          -98.3611823089334,
          -98.36073746841771,
          -98.36029048553996,
          -98.35984136712796,
          -98.3593901199979,
          -98.35893675096031,
          -98.35848126680935,
          -98.35802367433052,
          -98.35756398029707,
          -98.35710219147654,
          -98.35663831461852,
          -98.35617235646669,
          -98.35570432375334,
          -98.35523422320011,
          -98.3547620615168,
          -98.35428784540477,
          -98.3538115815536,
          -98.35333327664034,
          -98.35285293733295,
          -98.35237057029303,
          -98.35188618216512,
          -98.35139977958534,
          -98.35091136918345,
          -98.35042095757149,
          -98.34992855135738,
          -98.34943415713406,
          -98.34893778148762,
          -98.34843943099236,
          -98.34793911220913,
          -98.34743683169609,
          -98.34693259599203,
          -98.34642641163146,
          -98.34591828513726,
          -98.34540822302097,
          -98.3448962317832,
          -98.3443823179166,
          -98.34386648790041,
          -98.34334874820956,
          -98.34282910530078,
          -98.34230756562602,
          -98.34178413562518,
          -98.34125882172975,
          -98.34073163035919,
          -98.340202567922,
          -98.33967164081923,
          -98.3391388554387,
          -98.33860421816212,
          -98.3380677353573,
          -98.33752941338275,
          -98.33698925859062,
          -98.33644727731689,
          -98.33590347589256,
          -98.33535786063567,
          -98.3348104378556,
          -98.3342612138515,
          -98.33371019491346,
          -98.3331573873188,
          -98.33260279734009,
          -98.33204643123327,
          -98.33148829524885,
          -98.33092839562619,
          -98.33036673859624,
          -98.32980333037654,
          -98.32923817718029,
          -98.32867128520434,
          -98.32810266064143,
          -98.32753230967046,
          -98.32696023846347,
          -98.32638645318093,
          -98.32581095997375,
          -98.32523376498443,
          -98.32465487434274,
          -98.32407429417185,
          -98.32349203058607,
          -98.32290808968492,
          -98.3223224775636,
          -98.3217352003046,
          -98.32114626398175,
          -98.32055567465886,
          -98.31996343839114,
          -98.3193695612224,
          -98.31877404919078,
          -98.31817690831917,
          -98.31757814462435,
          -98.31697776411374,
          -98.31637577278434,
          -98.31577217662266,
          -98.31516698160908,
          -98.31456019371149,
          -98.31395181888843,
          -98.31334186309073,
          -98.31273033225784,
          -98.31211723232173,
          -98.31150256920364,
          -98.31088634881667,
          -98.31026857706092,
          -98.3096492598338,
          -98.30902840301496,
          -98.30840601248315,
          -98.30778209410187,
          -98.30715665372804,
          -98.30652969720836,
          -98.30590123038064,
          -98.3052712590736,
          -98.30463978910507,
          -98.30400682628579,
          -98.30337237641811,
          -98.30273644529007,
          -98.30209903868695,
          -98.30146016237995,
          -98.30081982213505,
          -98.30017802370548,
          -98.29953477283743,
          -98.29889007526822,
          -98.29824393672311,
          -98.29759636292329,
          -98.29694735957742,
          -98.29629693238485,
          -98.29564508703766,
          -98.29499182921836,
          -98.29433716459789,
          -98.29368109884331,
          -98.29302363760758,
          -98.29236478653979,
          -98.2917045512736,
          -98.2910429374399,
          -98.29037995065687,
          -98.2897155965361,
          -98.28904988067643,
          -98.28838280867467,
          -98.28771438611193,
          -98.28704461856387,
          -98.286373511595,
          -98.28570107076371,
          -98.28502730161995,
          -98.2843522097005,
          -98.28367580053805,
          -98.28299807965504,
          -98.28231905256189,
          -98.28163872476534,
          -98.2809571017599,
          -98.28027418903366,
          -98.27958999206544,
          -98.27890451632197,
          -98.27821776726705,
          -98.27752975035196,
          -98.27684047101889,
          -98.27614993470343,
          -98.27545814683458,
          -98.27476511282634,
          -98.27407083808816,
          -98.27337532802107,
          -98.27267858801724,
          -98.27198062345838,
          -98.2712814397214,
          -98.27058104217099,
          -98.26987943616587,
          -98.26917662705387,
          -98.268472620176,
          -98.26776742086236,
          -98.26706103444008,
          -98.26635346622243,
          -98.26564472151608,
          -98.26493480561862,
          -98.26422372382171,
          -98.26351148140384,
          -98.2627980836412,
          -98.26208353579568,
          -98.26136784312553,
          -98.26065101087738,
          -98.2599330442888,
          -98.25921394859574,
          -98.25849372901575,
          -98.25777239076751,
          -98.25704993905424,
          -98.25632637907461,
          -98.25560171601796,
          -98.25487595506615,
          -98.25414910139443,
          -98.25342116016418,
          -98.25269213653291,
          -98.25196203564929,
          -98.25123086265376,
          -98.25049862267792,
          -98.24976532084588,
          -98.24903096227172,
          -98.24829555206634,
          -98.24755909532587,
          -98.24682159714416,
          -98.24608306260052,
          -98.24534349677288,
          -98.24460290472939,
          -98.24386129152481,
          -98.24311866221342,
          -98.24237502183541,
          -98.24163037542735,
          -98.24088472801532,
          -98.24013808461746,
          -98.23939045024463,
          -98.23864182990042,
          -98.23789222857636,
          -98.23714165126285,
          -98.23639010293641,
          -98.23563758856949,
          -98.23488411312246,
          -98.23412968155299,
          -98.23337429880621,
          -98.23261796982115,
          -98.23186069953044,
          -98.2311024928556,
          -98.23034335471311,
          -98.22958329001062,
          -98.22882230364803,
          -98.22806040051637,
          -98.22729758550236,
          -98.22653386347974,
          -98.22576923931592,
          -98.22500371787623,
          -98.22423730401101,
          -98.22347000256286,
          -98.22270181837325,
          -98.22193275627046,
          -98.22116282107936,
          -98.22039201760799,
          -98.21962035066872,
          -98.21884782505754,
          -98.21807444556839,
          -98.21730021698272,
          -98.21652514407515,
          -98.21574923161734,
          -98.21497248437004,
          -98.21419490708377,
          -98.21341650450358,
          -98.21263728137137,
          -98.21185724241354,
          -98.21107639235424,
          -98.21029473590966,
          -98.20951227778687,
          -98.20872902268502,
          -98.20794497529914,
          -98.20716014031063,
          -98.20637452239953,
          -98.20558812623676,
          -98.2048009564835,
          -98.20401301779407,
          -98.20322431481713,
          -98.20243485219316,
          -98.20164463455376,
          -98.20085366652711,
          -98.20006195272913,
          -98.1992694977705,
          -98.1984763062544,
          -98.19768238277697,
          -98.19688773192752,
          -98.19609235828511,
          -98.19529626642475,
          -98.1944994609139,
          -98.19370194630892,
          -98.19290372716364,
          -98.19210480802326,
          -98.1913051934232,
          -98.19050488789344,
          -98.18970389595665,
          -98.18890222212985,
          -98.1880998709205,
          -98.1872968468283,
          -98.18649315434845,
          -98.1856887979668,
          -98.18488378216261,
          -98.18407811140719,
          -98.18327179016796,
          -98.18246482290033,
          -98.18165721405649,
          -98.18084896807613,
          -98.18004008940147,
          -98.1792305824572,
          -98.17842045166708,
          -98.1776097014465,
          -98.17679833620195,
          -98.1759863603354,
          -98.1751737782397,
          -98.17436059430224,
          -98.17354681290271,
          -98.1727324384135,
          -98.17191747519973,
          -98.17110192761879,
          -98.17028580002443,
          -98.16946909675994,
          -98.16865182216475,
          -98.16783398056714,
          -98.16701557629221,
          -98.16619661365485,
          -98.16537709696604,
          -98.1645570305268,
          -98.16373641863674,
          -98.16291526558052,
          -98.16209357564276,
          -98.16127135309785,
          -98.16044860221336,
          -98.15962532725302,
          -98.15880153246826,
          -98.15797722210846,
          -98.15715240041482,
          -98.15632707161876,
          -98.15550123995035,
          -98.1546749096292,
          -98.15384808486715,
          -98.15302076987268,
          -98.1521929688463,
          -98.15136468597984,
          -98.15053592545951,
          -98.14970669146601,
          -98.14887698817188,
          -98.14804681974306,
          -98.14721619034094,
          -98.1463851041151,
          -98.14555356521328,
          -98.14472157777504,
          -98.14388914593383,
          -98.14305627381327,
          -98.1422229655359,
          -98.14138922521306,
          -98.14055505695,
          -98.1397204648456,
          -98.13888545299733,
          -98.13805002548611,
          -98.13721418639261,
          -98.13637793979387,
          -98.13554128975147,
          -98.1347042403263,
          -98.13386679557289,
          -98.13302895954007,
          -98.13219073626465,
          -98.13135212978204,
          -98.13051314411791,
          -98.12967378329495,
          -98.12883405132607,
          -98.12799395221941,
          -98.12715348997631,
          -98.12631266859125,
          -98.12547149205352,
          -98.12462996434283,
          -98.12378808943754,
          -98.12294587130373,
          -98.12210331390565,
          -98.12126042119803,
          -98.12041719713284,
          -98.11957364565046,
          -98.11872977069015,
          -98.11788557618297,
          -98.11704106605089,
          -98.11619624421223,
          -98.11535111458147,
          -98.11450568105943,
          -98.11365994754556,
          -98.11281391793705,
          -98.11196759611335,
          -98.11112098596095,
          -98.1102740913484,
          -98.10942691614514,
          -98.10857946421152,
          -98.10773173940288,
          -98.10688374556912,
          -98.10603548655013,
          -98.10518696618237,
          -98.10433818829665,
          -98.10348915671761,
          -98.10263987526014,
          -98.10179034773614,
          -98.10094057795254,
          -98.10009056970625,
          -98.09924032678987,
          -98.09838985299098,
          -98.09753915208967,
          -98.09668822785966,
          -98.09583708406944,
          -98.0949857244816,
          -98.09413415285053,
          -98.09328237292789,
          -98.0924303884558,
          -98.0915782031716,
          -98.09072582081012,
          -98.08987324509235,
          -98.08902047973879,
          -98.08816752846406,
          -98.08731439497524,
          -98.08646108297285,
          -98.0856075961533,
          -98.08475393820413,
          -98.08390011281085,
          -98.08304612364736,
          -98.08219197438757,
          -98.08133766869537,
          -98.08048321023011,
          -98.07962860264661,
          -98.07877384959147,
          -98.07791895470291,
          -98.07706392162254,
          -98.07620875397538,
          -98.07535345538668,
          -98.0744980294728,
          -98.07364247984742,
          -98.07278681011326,
          -98.07193102387737,
          -98.07107512472453,
          -98.07021911625088,
          -98.06936300203415,
          -98.06850678565297,
          -98.06765047067802,
          -98.06679406067406,
          -98.06593755919948,
          -98.06508096980974,
          -98.06422429604982,
          -98.06336754146218,
          -98.06251070958274,
          -98.0616538039435,
          -98.06079682806512,
          -98.05993978546985,
          -98.05908267966947,
          -98.05822551416918,
          -98.05736829247326,
          -98.0565110180753,
          -98.05565369446617,
          -98.05479632513016,
          -98.0539389135472,
          -98.05308146318498,
          -98.05222397751777,
          -98.05136646000028,
          -98.05050891409223,
          -98.04965134324493,
          -98.04879375089945,
          -98.04793614049595,
          -98.04707851546937,
          -98.0462208792444,
          -98.04536323524508,
          -98.04450558688836,
          -98.04364793758259,
          -98.04279029073541,
          -98.04193264974447,
          -98.04107501800536,
          -98.0402173989055,
          -98.0393597958282
         ]
        },
        {
         "marker": {
          "color": "black",
          "size": 10,
          "symbol": "cross"
         },
         "mode": "markers",
         "name": "mBM4 min energy",
         "type": "scatter",
         "x": [
          297.8178178178178
         ],
         "y": [
          -98.39969457107986
         ]
        }
       ],
       "layout": {
        "legend": {
         "title": {
          "text": "config"
         },
         "tracegroupgap": 0
        },
        "margin": {
         "t": 60
        },
        "template": {
         "data": {
          "bar": [
           {
            "error_x": {
             "color": "#2a3f5f"
            },
            "error_y": {
             "color": "#2a3f5f"
            },
            "marker": {
             "line": {
              "color": "white",
              "width": 0.5
             },
             "pattern": {
              "fillmode": "overlay",
              "size": 10,
              "solidity": 0.2
             }
            },
            "type": "bar"
           }
          ],
          "barpolar": [
           {
            "marker": {
             "line": {
              "color": "white",
              "width": 0.5
             },
             "pattern": {
              "fillmode": "overlay",
              "size": 10,
              "solidity": 0.2
             }
            },
            "type": "barpolar"
           }
          ],
          "carpet": [
           {
            "aaxis": {
             "endlinecolor": "#2a3f5f",
             "gridcolor": "#C8D4E3",
             "linecolor": "#C8D4E3",
             "minorgridcolor": "#C8D4E3",
             "startlinecolor": "#2a3f5f"
            },
            "baxis": {
             "endlinecolor": "#2a3f5f",
             "gridcolor": "#C8D4E3",
             "linecolor": "#C8D4E3",
             "minorgridcolor": "#C8D4E3",
             "startlinecolor": "#2a3f5f"
            },
            "type": "carpet"
           }
          ],
          "choropleth": [
           {
            "colorbar": {
             "outlinewidth": 0,
             "ticks": ""
            },
            "type": "choropleth"
           }
          ],
          "contour": [
           {
            "colorbar": {
             "outlinewidth": 0,
             "ticks": ""
            },
            "colorscale": [
             [
              0,
              "#0d0887"
             ],
             [
              0.1111111111111111,
              "#46039f"
             ],
             [
              0.2222222222222222,
              "#7201a8"
             ],
             [
              0.3333333333333333,
              "#9c179e"
             ],
             [
              0.4444444444444444,
              "#bd3786"
             ],
             [
              0.5555555555555556,
              "#d8576b"
             ],
             [
              0.6666666666666666,
              "#ed7953"
             ],
             [
              0.7777777777777778,
              "#fb9f3a"
             ],
             [
              0.8888888888888888,
              "#fdca26"
             ],
             [
              1,
              "#f0f921"
             ]
            ],
            "type": "contour"
           }
          ],
          "contourcarpet": [
           {
            "colorbar": {
             "outlinewidth": 0,
             "ticks": ""
            },
            "type": "contourcarpet"
           }
          ],
          "heatmap": [
           {
            "colorbar": {
             "outlinewidth": 0,
             "ticks": ""
            },
            "colorscale": [
             [
              0,
              "#0d0887"
             ],
             [
              0.1111111111111111,
              "#46039f"
             ],
             [
              0.2222222222222222,
              "#7201a8"
             ],
             [
              0.3333333333333333,
              "#9c179e"
             ],
             [
              0.4444444444444444,
              "#bd3786"
             ],
             [
              0.5555555555555556,
              "#d8576b"
             ],
             [
              0.6666666666666666,
              "#ed7953"
             ],
             [
              0.7777777777777778,
              "#fb9f3a"
             ],
             [
              0.8888888888888888,
              "#fdca26"
             ],
             [
              1,
              "#f0f921"
             ]
            ],
            "type": "heatmap"
           }
          ],
          "heatmapgl": [
           {
            "colorbar": {
             "outlinewidth": 0,
             "ticks": ""
            },
            "colorscale": [
             [
              0,
              "#0d0887"
             ],
             [
              0.1111111111111111,
              "#46039f"
             ],
             [
              0.2222222222222222,
              "#7201a8"
             ],
             [
              0.3333333333333333,
              "#9c179e"
             ],
             [
              0.4444444444444444,
              "#bd3786"
             ],
             [
              0.5555555555555556,
              "#d8576b"
             ],
             [
              0.6666666666666666,
              "#ed7953"
             ],
             [
              0.7777777777777778,
              "#fb9f3a"
             ],
             [
              0.8888888888888888,
              "#fdca26"
             ],
             [
              1,
              "#f0f921"
             ]
            ],
            "type": "heatmapgl"
           }
          ],
          "histogram": [
           {
            "marker": {
             "pattern": {
              "fillmode": "overlay",
              "size": 10,
              "solidity": 0.2
             }
            },
            "type": "histogram"
           }
          ],
          "histogram2d": [
           {
            "colorbar": {
             "outlinewidth": 0,
             "ticks": ""
            },
            "colorscale": [
             [
              0,
              "#0d0887"
             ],
             [
              0.1111111111111111,
              "#46039f"
             ],
             [
              0.2222222222222222,
              "#7201a8"
             ],
             [
              0.3333333333333333,
              "#9c179e"
             ],
             [
              0.4444444444444444,
              "#bd3786"
             ],
             [
              0.5555555555555556,
              "#d8576b"
             ],
             [
              0.6666666666666666,
              "#ed7953"
             ],
             [
              0.7777777777777778,
              "#fb9f3a"
             ],
             [
              0.8888888888888888,
              "#fdca26"
             ],
             [
              1,
              "#f0f921"
             ]
            ],
            "type": "histogram2d"
           }
          ],
          "histogram2dcontour": [
           {
            "colorbar": {
             "outlinewidth": 0,
             "ticks": ""
            },
            "colorscale": [
             [
              0,
              "#0d0887"
             ],
             [
              0.1111111111111111,
              "#46039f"
             ],
             [
              0.2222222222222222,
              "#7201a8"
             ],
             [
              0.3333333333333333,
              "#9c179e"
             ],
             [
              0.4444444444444444,
              "#bd3786"
             ],
             [
              0.5555555555555556,
              "#d8576b"
             ],
             [
              0.6666666666666666,
              "#ed7953"
             ],
             [
              0.7777777777777778,
              "#fb9f3a"
             ],
             [
              0.8888888888888888,
              "#fdca26"
             ],
             [
              1,
              "#f0f921"
             ]
            ],
            "type": "histogram2dcontour"
           }
          ],
          "mesh3d": [
           {
            "colorbar": {
             "outlinewidth": 0,
             "ticks": ""
            },
            "type": "mesh3d"
           }
          ],
          "parcoords": [
           {
            "line": {
             "colorbar": {
              "outlinewidth": 0,
              "ticks": ""
             }
            },
            "type": "parcoords"
           }
          ],
          "pie": [
           {
            "automargin": true,
            "type": "pie"
           }
          ],
          "scatter": [
           {
            "fillpattern": {
             "fillmode": "overlay",
             "size": 10,
             "solidity": 0.2
            },
            "type": "scatter"
           }
          ],
          "scatter3d": [
           {
            "line": {
             "colorbar": {
              "outlinewidth": 0,
              "ticks": ""
             }
            },
            "marker": {
             "colorbar": {
              "outlinewidth": 0,
              "ticks": ""
             }
            },
            "type": "scatter3d"
           }
          ],
          "scattercarpet": [
           {
            "marker": {
             "colorbar": {
              "outlinewidth": 0,
              "ticks": ""
             }
            },
            "type": "scattercarpet"
           }
          ],
          "scattergeo": [
           {
            "marker": {
             "colorbar": {
              "outlinewidth": 0,
              "ticks": ""
             }
            },
            "type": "scattergeo"
           }
          ],
          "scattergl": [
           {
            "marker": {
             "colorbar": {
              "outlinewidth": 0,
              "ticks": ""
             }
            },
            "type": "scattergl"
           }
          ],
          "scattermapbox": [
           {
            "marker": {
             "colorbar": {
              "outlinewidth": 0,
              "ticks": ""
             }
            },
            "type": "scattermapbox"
           }
          ],
          "scatterpolar": [
           {
            "marker": {
             "colorbar": {
              "outlinewidth": 0,
              "ticks": ""
             }
            },
            "type": "scatterpolar"
           }
          ],
          "scatterpolargl": [
           {
            "marker": {
             "colorbar": {
              "outlinewidth": 0,
              "ticks": ""
             }
            },
            "type": "scatterpolargl"
           }
          ],
          "scatterternary": [
           {
            "marker": {
             "colorbar": {
              "outlinewidth": 0,
              "ticks": ""
             }
            },
            "type": "scatterternary"
           }
          ],
          "surface": [
           {
            "colorbar": {
             "outlinewidth": 0,
             "ticks": ""
            },
            "colorscale": [
             [
              0,
              "#0d0887"
             ],
             [
              0.1111111111111111,
              "#46039f"
             ],
             [
              0.2222222222222222,
              "#7201a8"
             ],
             [
              0.3333333333333333,
              "#9c179e"
             ],
             [
              0.4444444444444444,
              "#bd3786"
             ],
             [
              0.5555555555555556,
              "#d8576b"
             ],
             [
              0.6666666666666666,
              "#ed7953"
             ],
             [
              0.7777777777777778,
              "#fb9f3a"
             ],
             [
              0.8888888888888888,
              "#fdca26"
             ],
             [
              1,
              "#f0f921"
             ]
            ],
            "type": "surface"
           }
          ],
          "table": [
           {
            "cells": {
             "fill": {
              "color": "#EBF0F8"
             },
             "line": {
              "color": "white"
             }
            },
            "header": {
             "fill": {
              "color": "#C8D4E3"
             },
             "line": {
              "color": "white"
             }
            },
            "type": "table"
           }
          ]
         },
         "layout": {
          "annotationdefaults": {
           "arrowcolor": "#2a3f5f",
           "arrowhead": 0,
           "arrowwidth": 1
          },
          "autotypenumbers": "strict",
          "coloraxis": {
           "colorbar": {
            "outlinewidth": 0,
            "ticks": ""
           }
          },
          "colorscale": {
           "diverging": [
            [
             0,
             "#8e0152"
            ],
            [
             0.1,
             "#c51b7d"
            ],
            [
             0.2,
             "#de77ae"
            ],
            [
             0.3,
             "#f1b6da"
            ],
            [
             0.4,
             "#fde0ef"
            ],
            [
             0.5,
             "#f7f7f7"
            ],
            [
             0.6,
             "#e6f5d0"
            ],
            [
             0.7,
             "#b8e186"
            ],
            [
             0.8,
             "#7fbc41"
            ],
            [
             0.9,
             "#4d9221"
            ],
            [
             1,
             "#276419"
            ]
           ],
           "sequential": [
            [
             0,
             "#0d0887"
            ],
            [
             0.1111111111111111,
             "#46039f"
            ],
            [
             0.2222222222222222,
             "#7201a8"
            ],
            [
             0.3333333333333333,
             "#9c179e"
            ],
            [
             0.4444444444444444,
             "#bd3786"
            ],
            [
             0.5555555555555556,
             "#d8576b"
            ],
            [
             0.6666666666666666,
             "#ed7953"
            ],
            [
             0.7777777777777778,
             "#fb9f3a"
            ],
            [
             0.8888888888888888,
             "#fdca26"
            ],
            [
             1,
             "#f0f921"
            ]
           ],
           "sequentialminus": [
            [
             0,
             "#0d0887"
            ],
            [
             0.1111111111111111,
             "#46039f"
            ],
            [
             0.2222222222222222,
             "#7201a8"
            ],
            [
             0.3333333333333333,
             "#9c179e"
            ],
            [
             0.4444444444444444,
             "#bd3786"
            ],
            [
             0.5555555555555556,
             "#d8576b"
            ],
            [
             0.6666666666666666,
             "#ed7953"
            ],
            [
             0.7777777777777778,
             "#fb9f3a"
            ],
            [
             0.8888888888888888,
             "#fdca26"
            ],
            [
             1,
             "#f0f921"
            ]
           ]
          },
          "colorway": [
           "#636efa",
           "#EF553B",
           "#00cc96",
           "#ab63fa",
           "#FFA15A",
           "#19d3f3",
           "#FF6692",
           "#B6E880",
           "#FF97FF",
           "#FECB52"
          ],
          "font": {
           "color": "#2a3f5f"
          },
          "geo": {
           "bgcolor": "white",
           "lakecolor": "white",
           "landcolor": "white",
           "showlakes": true,
           "showland": true,
           "subunitcolor": "#C8D4E3"
          },
          "hoverlabel": {
           "align": "left"
          },
          "hovermode": "closest",
          "mapbox": {
           "style": "light"
          },
          "paper_bgcolor": "white",
          "plot_bgcolor": "white",
          "polar": {
           "angularaxis": {
            "gridcolor": "#EBF0F8",
            "linecolor": "#EBF0F8",
            "ticks": ""
           },
           "bgcolor": "white",
           "radialaxis": {
            "gridcolor": "#EBF0F8",
            "linecolor": "#EBF0F8",
            "ticks": ""
           }
          },
          "scene": {
           "xaxis": {
            "backgroundcolor": "white",
            "gridcolor": "#DFE8F3",
            "gridwidth": 2,
            "linecolor": "#EBF0F8",
            "showbackground": true,
            "ticks": "",
            "zerolinecolor": "#EBF0F8"
           },
           "yaxis": {
            "backgroundcolor": "white",
            "gridcolor": "#DFE8F3",
            "gridwidth": 2,
            "linecolor": "#EBF0F8",
            "showbackground": true,
            "ticks": "",
            "zerolinecolor": "#EBF0F8"
           },
           "zaxis": {
            "backgroundcolor": "white",
            "gridcolor": "#DFE8F3",
            "gridwidth": 2,
            "linecolor": "#EBF0F8",
            "showbackground": true,
            "ticks": "",
            "zerolinecolor": "#EBF0F8"
           }
          },
          "shapedefaults": {
           "line": {
            "color": "#2a3f5f"
           }
          },
          "ternary": {
           "aaxis": {
            "gridcolor": "#DFE8F3",
            "linecolor": "#A2B1C6",
            "ticks": ""
           },
           "baxis": {
            "gridcolor": "#DFE8F3",
            "linecolor": "#A2B1C6",
            "ticks": ""
           },
           "bgcolor": "white",
           "caxis": {
            "gridcolor": "#DFE8F3",
            "linecolor": "#A2B1C6",
            "ticks": ""
           }
          },
          "title": {
           "x": 0.05
          },
          "xaxis": {
           "automargin": true,
           "gridcolor": "#EBF0F8",
           "linecolor": "#EBF0F8",
           "ticks": "",
           "title": {
            "standoff": 15
           },
           "zerolinecolor": "#EBF0F8",
           "zerolinewidth": 2
          },
          "yaxis": {
           "automargin": true,
           "gridcolor": "#EBF0F8",
           "linecolor": "#EBF0F8",
           "ticks": "",
           "title": {
            "standoff": 15
           },
           "zerolinecolor": "#EBF0F8",
           "zerolinewidth": 2
          }
         }
        },
        "title": {
         "text": "E-V"
        },
        "xaxis": {
         "anchor": "y",
         "domain": [
          0,
          1
         ],
         "title": {
          "text": "Volume [A^3]"
         }
        },
        "yaxis": {
         "anchor": "x",
         "domain": [
          0,
          1
         ],
         "title": {
          "text": "Energy (eV)"
         }
        }
       }
      }
     },
     "metadata": {},
     "output_type": "display_data"
    },
    {
     "name": "stdout",
     "output_type": "stream",
     "text": [
      "  config volume energy                                           left_col  \\\n",
      "0      1    NaN    NaN  [102.0, 100.0, 98.0, 96.0, 94.0, 92.0, 90.0, 8...   \n",
      "\n",
      "                                           right_col  \n",
      "0  [-57.411667, -57.584589, -57.72501, -57.83455,...  \n"
     ]
    },
    {
     "ename": "UFuncTypeError",
     "evalue": "Cannot cast ufunc 'svd_m_s' input from dtype('O') to dtype('float64') with casting rule 'same_kind'",
     "output_type": "error",
     "traceback": [
      "\u001b[1;31m---------------------------------------------------------------------------\u001b[0m",
      "\u001b[1;31mUFuncTypeError\u001b[0m                            Traceback (most recent call last)",
      "Cell \u001b[1;32mIn[6], line 17\u001b[0m\n\u001b[0;32m      7\u001b[0m \u001b[38;5;124;03m\"\"\"\u001b[39;00m\n\u001b[0;32m      8\u001b[0m \u001b[38;5;124;03mif you have str_ input files, you can put these directly into the plot_ev function\u001b[39;00m\n\u001b[0;32m      9\u001b[0m \u001b[38;5;124;03mwith a list of the paths to the files ex:\u001b[39;00m\n\u001b[1;32m   (...)\u001b[0m\n\u001b[0;32m     13\u001b[0m \u001b[38;5;124;03mplot_mv does not support str_ input files\u001b[39;00m\n\u001b[0;32m     14\u001b[0m \u001b[38;5;124;03m\"\"\"\u001b[39;00m\n\u001b[0;32m     15\u001b[0m str_list \u001b[38;5;241m=\u001b[39m [\u001b[38;5;124m'\u001b[39m\u001b[38;5;124mC:/Users/Luke/vasp-job-automation/test_data/structures/str_1\u001b[39m\u001b[38;5;124m'\u001b[39m]\n\u001b[1;32m---> 17\u001b[0m str_fig1 \u001b[38;5;241m=\u001b[39m eos_fit\u001b[38;5;241m.\u001b[39mplot_ev(str_list, show_fig\u001b[38;5;241m=\u001b[39m\u001b[38;5;28;01mTrue\u001b[39;00m)\n",
      "File \u001b[1;32mc:\\Users\\Luke\\vasp-job-automation\\eos_fit.py:624\u001b[0m, in \u001b[0;36mplot_ev\u001b[1;34m(data, eos_fitting, highlight_minimum, show_fig, left_col, right_col)\u001b[0m\n\u001b[0;32m    621\u001b[0m     \u001b[38;5;28;01mraise\u001b[39;00m \u001b[38;5;167;01mValueError\u001b[39;00m(\u001b[38;5;124m\"\u001b[39m\u001b[38;5;124mdata must be a pandas DataFrame or a list of pandas DataFrames or a list of input_file names as strings\u001b[39m\u001b[38;5;124m\"\u001b[39m)\n\u001b[0;32m    623\u001b[0m \u001b[38;5;66;03m# create a data frame with the eos fits for each config\u001b[39;00m\n\u001b[1;32m--> 624\u001b[0m eos_df \u001b[38;5;241m=\u001b[39m fit_to_all_eos(df)\n\u001b[0;32m    626\u001b[0m \u001b[38;5;66;03m# plot the fitted equations\u001b[39;00m\n\u001b[0;32m    627\u001b[0m fig \u001b[38;5;241m=\u001b[39m px\u001b[38;5;241m.\u001b[39mscatter(df, x\u001b[38;5;241m=\u001b[39m\u001b[38;5;124m'\u001b[39m\u001b[38;5;124mvolume\u001b[39m\u001b[38;5;124m'\u001b[39m, y\u001b[38;5;241m=\u001b[39m\u001b[38;5;124m'\u001b[39m\u001b[38;5;124menergy\u001b[39m\u001b[38;5;124m'\u001b[39m, color\u001b[38;5;241m=\u001b[39m\u001b[38;5;124m'\u001b[39m\u001b[38;5;124mconfig\u001b[39m\u001b[38;5;124m'\u001b[39m, template\u001b[38;5;241m=\u001b[39m\u001b[38;5;124m'\u001b[39m\u001b[38;5;124mplotly_white\u001b[39m\u001b[38;5;124m'\u001b[39m)\n",
      "File \u001b[1;32mc:\\Users\\Luke\\vasp-job-automation\\eos_fit.py:513\u001b[0m, in \u001b[0;36mfit_to_all_eos\u001b[1;34m(df)\u001b[0m\n\u001b[0;32m    510\u001b[0m energies \u001b[38;5;241m=\u001b[39m config_df[\u001b[38;5;124m'\u001b[39m\u001b[38;5;124menergy\u001b[39m\u001b[38;5;124m'\u001b[39m]\u001b[38;5;241m.\u001b[39mvalues\n\u001b[0;32m    512\u001b[0m \u001b[38;5;28;01mfor\u001b[39;00m eos_func \u001b[38;5;129;01min\u001b[39;00m eos_functions:\n\u001b[1;32m--> 513\u001b[0m     results, volume_range, energy_eos, pressure_eos \u001b[38;5;241m=\u001b[39m eos_func(volumes, energies)\n\u001b[0;32m    514\u001b[0m     energy_eos \u001b[38;5;241m=\u001b[39m energy_eos[\u001b[38;5;241m1\u001b[39m:]\n\u001b[0;32m    515\u001b[0m     pressure_eos \u001b[38;5;241m=\u001b[39m pressure_eos[\u001b[38;5;241m1\u001b[39m:]\n",
      "File \u001b[1;32mc:\\Users\\Luke\\vasp-job-automation\\eos_fit.py:49\u001b[0m, in \u001b[0;36mmBM4\u001b[1;34m(volume, energy)\u001b[0m\n\u001b[0;32m     47\u001b[0m AA \u001b[38;5;241m=\u001b[39m np\u001b[38;5;241m.\u001b[39mvstack((np\u001b[38;5;241m.\u001b[39mones(np\u001b[38;5;241m.\u001b[39mshape(volume)), volume \u001b[38;5;241m*\u001b[39m\u001b[38;5;241m*\u001b[39m (\u001b[38;5;241m-\u001b[39m\u001b[38;5;241m1\u001b[39m \u001b[38;5;241m/\u001b[39m \u001b[38;5;241m3\u001b[39m), volume \u001b[38;5;241m*\u001b[39m\u001b[38;5;241m*\u001b[39m (\u001b[38;5;241m-\u001b[39m\u001b[38;5;241m2\u001b[39m \u001b[38;5;241m/\u001b[39m \u001b[38;5;241m3\u001b[39m), volume \u001b[38;5;241m*\u001b[39m\u001b[38;5;241m*\u001b[39m (\u001b[38;5;241m-\u001b[39m\u001b[38;5;241m1\u001b[39m)))  \u001b[38;5;66;03m# (nx4)\u001b[39;00m\n\u001b[0;32m     48\u001b[0m AA \u001b[38;5;241m=\u001b[39m AA\u001b[38;5;241m.\u001b[39mT\n\u001b[1;32m---> 49\u001b[0m xx1 \u001b[38;5;241m=\u001b[39m np\u001b[38;5;241m.\u001b[39mlinalg\u001b[38;5;241m.\u001b[39mpinv(AA)\n\u001b[0;32m     50\u001b[0m xx \u001b[38;5;241m=\u001b[39m xx1\u001b[38;5;241m.\u001b[39mdot(energy)  \u001b[38;5;66;03m# (4x1) = (4xn)*(nx1), solve by pseudo-inversion: Ax=b\u001b[39;00m\n\u001b[0;32m     51\u001b[0m a \u001b[38;5;241m=\u001b[39m xx[\u001b[38;5;241m0\u001b[39m]\n",
      "File \u001b[1;32mc:\\Users\\Luke\\.conda\\envs\\vasp\\Lib\\site-packages\\numpy\\linalg\\linalg.py:2022\u001b[0m, in \u001b[0;36mpinv\u001b[1;34m(a, rcond, hermitian)\u001b[0m\n\u001b[0;32m   2020\u001b[0m     \u001b[38;5;28;01mreturn\u001b[39;00m wrap(res)\n\u001b[0;32m   2021\u001b[0m a \u001b[38;5;241m=\u001b[39m a\u001b[38;5;241m.\u001b[39mconjugate()\n\u001b[1;32m-> 2022\u001b[0m u, s, vt \u001b[38;5;241m=\u001b[39m svd(a, full_matrices\u001b[38;5;241m=\u001b[39m\u001b[38;5;28;01mFalse\u001b[39;00m, hermitian\u001b[38;5;241m=\u001b[39mhermitian)\n\u001b[0;32m   2024\u001b[0m \u001b[38;5;66;03m# discard small singular values\u001b[39;00m\n\u001b[0;32m   2025\u001b[0m cutoff \u001b[38;5;241m=\u001b[39m rcond[\u001b[38;5;241m.\u001b[39m\u001b[38;5;241m.\u001b[39m\u001b[38;5;241m.\u001b[39m, newaxis] \u001b[38;5;241m*\u001b[39m amax(s, axis\u001b[38;5;241m=\u001b[39m\u001b[38;5;241m-\u001b[39m\u001b[38;5;241m1\u001b[39m, keepdims\u001b[38;5;241m=\u001b[39m\u001b[38;5;28;01mTrue\u001b[39;00m)\n",
      "File \u001b[1;32mc:\\Users\\Luke\\.conda\\envs\\vasp\\Lib\\site-packages\\numpy\\linalg\\linalg.py:1681\u001b[0m, in \u001b[0;36msvd\u001b[1;34m(a, full_matrices, compute_uv, hermitian)\u001b[0m\n\u001b[0;32m   1678\u001b[0m         gufunc \u001b[38;5;241m=\u001b[39m _umath_linalg\u001b[38;5;241m.\u001b[39msvd_n_s\n\u001b[0;32m   1680\u001b[0m signature \u001b[38;5;241m=\u001b[39m \u001b[38;5;124m'\u001b[39m\u001b[38;5;124mD->DdD\u001b[39m\u001b[38;5;124m'\u001b[39m \u001b[38;5;28;01mif\u001b[39;00m isComplexType(t) \u001b[38;5;28;01melse\u001b[39;00m \u001b[38;5;124m'\u001b[39m\u001b[38;5;124md->ddd\u001b[39m\u001b[38;5;124m'\u001b[39m\n\u001b[1;32m-> 1681\u001b[0m u, s, vh \u001b[38;5;241m=\u001b[39m gufunc(a, signature\u001b[38;5;241m=\u001b[39msignature, extobj\u001b[38;5;241m=\u001b[39mextobj)\n\u001b[0;32m   1682\u001b[0m u \u001b[38;5;241m=\u001b[39m u\u001b[38;5;241m.\u001b[39mastype(result_t, copy\u001b[38;5;241m=\u001b[39m\u001b[38;5;28;01mFalse\u001b[39;00m)\n\u001b[0;32m   1683\u001b[0m s \u001b[38;5;241m=\u001b[39m s\u001b[38;5;241m.\u001b[39mastype(_realType(result_t), copy\u001b[38;5;241m=\u001b[39m\u001b[38;5;28;01mFalse\u001b[39;00m)\n",
      "\u001b[1;31mUFuncTypeError\u001b[0m: Cannot cast ufunc 'svd_m_s' input from dtype('O') to dtype('float64') with casting rule 'same_kind'"
     ]
    }
   ],
   "source": [
    "\"\"\"\n",
    "now that we have the data for that config, we can plot it.\n",
    "\"\"\"\n",
    "fig1 = eos_fit.plot_mv(df, show_fig=True)\n",
    "fig2 = eos_fit.plot_ev(df, show_fig=True)\n",
    "\n",
    "\"\"\"\n",
    "if you have str_ input files, you can put these directly into the plot_ev function\n",
    "with a list of the paths to the files ex:\n",
    "    ['path/to/str_1', 'path/to/str_2', ...]\n",
    "\n",
    "\n",
    "plot_mv does not support str_ input files\n",
    "\"\"\"\n",
    "str_list = ['C:/Users/Luke/vasp-job-automation/test_data/structures/str_1']\n",
    "\n",
    "str_fig1 = eos_fit.plot_ev(str_list, show_fig=True)\n",
    "\n"
   ]
  },
  {
   "cell_type": "code",
   "execution_count": null,
   "metadata": {},
   "outputs": [],
   "source": [
    "\"\"\"\n",
    "mBM4 is the default eos fitting method for plot_ev().\n",
    "    If you want to change it, some options include:\n",
    "        plot_ev(df, eos_fitting='mBM5', show_fig=True)\n",
    "        plot_ev(df, eos_fitting='vinet', show_fig=True)\n",
    "        plot_ev(df, eos_fitting='all', show_fig=True)\n",
    "        plot_ev(df, eos_fitting=None, show_fig=True)\n",
    "\"\"\"\n",
    "\n",
    "fig3 = eos_fit.plot_ev(df, eos_fitting='all', highlight_minimum=True, show_fig=True)\n",
    "\n",
    "# the plots still need some work to look nice, but they are functional"
   ]
  },
  {
   "cell_type": "code",
   "execution_count": null,
   "metadata": {},
   "outputs": [],
   "source": [
    "\"\"\"\n",
    "If we want to delete data points, for example, because they are too far \n",
    "from the minimum, we can use the select_data() function\n",
    "\n",
    "This function requires a dictionary with the following format:\n",
    "    selection_dict = {'10': [0,1,2,3],\n",
    "                        '11': [0,1,2,3],\n",
    "                        '12': [0,1,2,3],\n",
    "                        ...}\n",
    "where the keys are the config # and the values are the volumes_ranks 0=lowest\n",
    "volume, 1=second lowest volume, etc.\n",
    "The keys are strings, and the values are lists of ints\n",
    "\n",
    "\"\"\"\n",
    "selection_dict = {'21': [2,3,4,5,6,7,8,9]}\n",
    "\n",
    "selected_df = eos_fit.select_data(df, selection_dict)\n",
    "print(selected_df)"
   ]
  },
  {
   "cell_type": "code",
   "execution_count": null,
   "metadata": {},
   "outputs": [],
   "source": [
    "\"\"\"\n",
    "Now we can plot the selected data\n",
    "\"\"\"\n",
    "\n",
    "fig4 = eos_fit.plot_ev(selected_df, eos_fitting='all', highlight_minimum=True, show_fig=True)"
   ]
  },
  {
   "cell_type": "code",
   "execution_count": null,
   "metadata": {},
   "outputs": [],
   "source": [
    "\"\"\"\n",
    "If we want to extract data from multiple configurations we can use a loop to iterate\n",
    "over the config dirs.\n",
    "\"\"\""
   ]
  },
  {
   "cell_type": "code",
   "execution_count": null,
   "metadata": {},
   "outputs": [],
   "source": [
    "\"\"\"\n",
    "Change this to the directory that contains all the 'config_x' dirs\n",
    "\"\"\"\n",
    "\n",
    "configurations_dir = 'C:/Users/Luke/vasp-job-automation/test_data/configurations'\n"
   ]
  },
  {
   "cell_type": "code",
   "execution_count": null,
   "metadata": {},
   "outputs": [],
   "source": [
    "\"\"\"\n",
    "Don't change this. This is a list of all the 'config_x' dirs in the configurations_dir\n",
    "\"\"\"\n",
    "\n",
    "config_dirs = [os.path.join(configurations_dir, d) for d in os.listdir(configurations_dir) if os.path.isdir(os.path.join(configurations_dir, d))]\n"
   ]
  },
  {
   "cell_type": "code",
   "execution_count": null,
   "metadata": {},
   "outputs": [],
   "source": [
    "\"\"\"\n",
    "The following code\n",
    "    iterates over the config dirs and extracts the data from each config\n",
    "    makes a list of the dataframes for each config\n",
    "    concatenates the dataframes into a single dataframe that contains all the data.\n",
    "\n",
    "Optionally, the commented out code allows you to make individual plots and/or save\n",
    "them to a png file for each config as you iterate over them.\n",
    "\"\"\"\n",
    "\n",
    "\"\"\"\n",
    "Change the outcar_name and oszicar_name if necessary. ex: outcar_name='OUTCAR.3static'\n",
    "\"\"\"\n",
    "df_list = []\n",
    "for config_dir in config_dirs:\n",
    "    config_df = cstdn.extract_config_data(config_dir, ion_list, outcar_name='OUTCAR', oszicar_name='OSZICAR')\n",
    "    # ev_fig = cstdn.plot_ev(config_df, None, show_fig=False) # show_fig = True will open up a browser window with the plot\n",
    "    # mv_fig = cstdn.plot_mv(config_df, show_fig=False) # show_fig = True will open up a browser window with the plot\n",
    "    # ev_fig.write_image(f'{os.path.basename(config_dir)}_ev_fig.png')\n",
    "    # mv_fig.write_image(f'{os.path.basename(config_dir)}_mv_fig.png')\n",
    "    df_list.append(config_df)\n",
    "df = pd.concat(df_list, ignore_index=True)\n",
    "print(df)\n"
   ]
  },
  {
   "cell_type": "code",
   "execution_count": null,
   "metadata": {},
   "outputs": [],
   "source": [
    "\"\"\"\n",
    "To plot all the EV curves together, we simply call the plot_ev function as before\n",
    "\"\"\"\n",
    "\n",
    "multiple_ev_fig = eos_fit.plot_ev(df, eos_fitting='mBM4', show_fig=True)\n"
   ]
  },
  {
   "cell_type": "code",
   "execution_count": null,
   "metadata": {},
   "outputs": [],
   "source": [
    "# save the pandas dataframe to a json file\n",
    "df.to_json('data.json')\n",
    "    #json makes more sense for tabular data than yaml,\n",
    "    #but not sure how Dr. Shang feels on the matlab end.\n",
    "\n",
    "# make a dictionary from the dataframe\n",
    "data_dict = df.to_dict()\n",
    "\n",
    "# save a yaml file from the dictionary\n",
    "with open('data.yaml', 'w') as f:\n",
    "    yaml.dump(data_dict, f)\n"
   ]
  },
  {
   "cell_type": "code",
   "execution_count": null,
   "metadata": {},
   "outputs": [],
   "source": [
    "\"\"\"\n",
    "The funciton used above, extract_config_data(), gives magnetic data only\n",
    "for the last ionic step of the OUTCAR file.\n",
    "\n",
    "There is, however, a function that extracts the magnetic data for all ionic steps.\n",
    "change the outcar_path\n",
    "\"\"\"\n",
    "\n",
    "all_magnetic_data = cstdn.extract_mag_data(outcar_path='C:/Users/Luke/vasp-job-automation/test_data/configurations/config_18/vol_1/OUTCAR.3static')\n",
    "print(all_magnetic_data)"
   ]
  }
 ],
 "metadata": {
  "kernelspec": {
   "display_name": "vasp",
   "language": "python",
   "name": "python3"
  },
  "language_info": {
   "codemirror_mode": {
    "name": "ipython",
    "version": 3
   },
   "file_extension": ".py",
   "mimetype": "text/x-python",
   "name": "python",
   "nbconvert_exporter": "python",
   "pygments_lexer": "ipython3",
   "version": "3.11.5"
  }
 },
 "nbformat": 4,
 "nbformat_minor": 2
}
