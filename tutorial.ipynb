{
 "cells": [
  {
   "cell_type": "code",
   "execution_count": null,
   "metadata": {},
   "outputs": [],
   "source": [
    "\"\"\"\n",
    "make sure you have the necessary packages installed to use the cstdn module\n",
    "\n",
    "Directory structure should look something like this:\n",
    "    configurations\n",
    "        config_1\n",
    "            vol_1\n",
    "            vol_2\n",
    "        config_2\n",
    "            vol_1\n",
    "            vol_2\n",
    "\n",
    "I think the only name that matters is the name of the volume, so you can have:\n",
    "    structures\n",
    "        str_1\n",
    "            vol_1\n",
    "            vol_2\n",
    "        str_2\n",
    "            vol_1\n",
    "            vol_2\n",
    "But, I'm not 100% sure. At any rate the tutorial will be easier to follow with\n",
    "the config name scheme\n",
    "\n",
    "\"\"\""
   ]
  },
  {
   "cell_type": "code",
   "execution_count": 1,
   "metadata": {},
   "outputs": [],
   "source": [
    "\"\"\"\n",
    "add the path of your version of vasp-job-automation to the system path\n",
    "\"\"\"\n",
    "\n",
    "sys.path.append('/storage/home/lam7027/bin/vasp-job-automation') #Change this to your path\n",
    "import cstdn\n",
    "import sys\n",
    "import os\n",
    "import pandas as pd\n",
    "import yaml\n",
    "\n",
    "\n",
    "\n",
    "#this took me 10s to import. a testement that I need to move stuff out of cstdn.py"
   ]
  },
  {
   "cell_type": "code",
   "execution_count": null,
   "metadata": {},
   "outputs": [],
   "source": [
    "\"\"\"\n",
    "To extract data from a single config and then plot that data,\n",
    "\"\"\""
   ]
  },
  {
   "cell_type": "code",
   "execution_count": null,
   "metadata": {},
   "outputs": [],
   "source": [
    "# change the list to the ions you want to plot the magnetic moment data for\n",
    "ion_list = [i for i in range(1, 9)] # recall that range(n, m) = [n, ..., m-1]"
   ]
  },
  {
   "cell_type": "code",
   "execution_count": null,
   "metadata": {},
   "outputs": [],
   "source": [
    "\"\"\"\n",
    "We can extract the data to a dataframe using this function\n",
    "\n",
    "Change path to the 'config_x' dir. this is the directory that cointains\n",
    "all the vol_x dirs which contain the OUTCAR and OSZICAR files for that volume\n",
    "\n",
    "If the OUTCAR and OSZICAR files have different names, specify them,\n",
    "    ex: outcar_name='OUTCAR.3static'\n",
    "\"\"\"\n",
    "\n",
    "df = cstdn.extract_config_data('/path/to/config_x', ion_list, outcar_name='OUTCAR.2relax', oszicar_name='OSZICAR.2relax') "
   ]
  },
  {
   "cell_type": "code",
   "execution_count": null,
   "metadata": {},
   "outputs": [],
   "source": [
    "\"\"\"\n",
    "now that we have the data for that config, we can plot it.\n",
    "\"\"\"\n",
    "fig1 = cstdn.plot_mv(df, show_fig=True)\n",
    "fig2 = cstdn.plot_ev(df, show_fig=True) \n"
   ]
  },
  {
   "cell_type": "code",
   "execution_count": null,
   "metadata": {},
   "outputs": [],
   "source": [
    "\"\"\"\n",
    "mBM4 is the default eos fitting method for plot_ev().\n",
    "    If you want to change it, some options include:\n",
    "        plot_ev(df, eos_fitting='mBM5', show_fig=True)\n",
    "        plot_ev(df, eos_fitting='vinet', show_fig=True)\n",
    "        plot_ev(df, eos_fitting='all', show_fig=True)\n",
    "        plot_ev(df, eos_fitting=None, show_fig=True)\n",
    "\"\"\"\n",
    "\n",
    "fig3 = cstdn.plot_ev(df, eos_fitting='all', show_fig=True)\n",
    "\n",
    "# the plots still need some work to look nice, but they are functional"
   ]
  },
  {
   "cell_type": "code",
   "execution_count": null,
   "metadata": {},
   "outputs": [],
   "source": [
    "\"\"\"\n",
    "If we want to extract data from multiple configurations we can use a loop to iterate\n",
    "over the config dirs.\n",
    "\"\"\""
   ]
  },
  {
   "cell_type": "code",
   "execution_count": null,
   "metadata": {},
   "outputs": [],
   "source": [
    "\"\"\"\n",
    "Change this to the directory that contains all the 'config_x' dirs\n",
    "\"\"\"\n",
    "\n",
    "configurations_dir = 'your/path/to/configurations'\n"
   ]
  },
  {
   "cell_type": "code",
   "execution_count": null,
   "metadata": {},
   "outputs": [],
   "source": [
    "\"\"\"\n",
    "Don't change this. This is a list of all the 'config_x' dirs in the configurations_dir\n",
    "\"\"\"\n",
    "\n",
    "config_dirs = [os.path.join(configurations_dir, d) for d in os.listdir(configurations_dir) if os.path.isdir(os.path.join(configurations_dir, d))]\n"
   ]
  },
  {
   "cell_type": "code",
   "execution_count": null,
   "metadata": {},
   "outputs": [],
   "source": [
    "\"\"\"\n",
    "The following code\n",
    "    iterates over the config dirs and extracts the data from each config\n",
    "    makes a list of the dataframes for each config\n",
    "    concatenates the dataframes into a single dataframe that contains all the data.\n",
    "\n",
    "Optionally, the commented out code allows you to make individual plots and/or save\n",
    "them to a png file for each config as you iterate over them.\n",
    "\"\"\"\n",
    "\n",
    "\"\"\"\n",
    "Change the outcar_name and oszicar_name if necessary. ex: outcar_name='OUTCAR.3static'\n",
    "\"\"\"\n",
    "df_list = []\n",
    "for config_dir in config_dirs:\n",
    "    config_df = cstdn.extract_config_data(config_dir, ion_list, outcar_name='OUTCAR', oszicar_name='OSZICAR')\n",
    "    # ev_fig = cstdn.plot_ev(config_df, None, show_fig=False) # show_fig = True will open up a browser window with the plot\n",
    "    # mv_fig = cstdn.plot_mv(config_df, show_fig=False) # show_fig = True will open up a browser window with the plot\n",
    "    # ev_fig.write_image(f'{os.path.basename(config_dir)}_ev_fig.png')\n",
    "    # mv_fig.write_image(f'{os.path.basename(config_dir)}_mv_fig.png')\n",
    "    df_list.append(config_df)\n",
    "df = pd.concat(df_list, ignore_index=True)"
   ]
  },
  {
   "cell_type": "code",
   "execution_count": null,
   "metadata": {},
   "outputs": [],
   "source": [
    "\"\"\"\n",
    "To plot all the EV curves together, we simply call the plot_ev function as before\n",
    "\"\"\"\n",
    "\n",
    "multiple_ev_fig = cstdn.plot_ev(df, eos_fitting='mBM4', show_fig=True)\n"
   ]
  },
  {
   "cell_type": "code",
   "execution_count": null,
   "metadata": {},
   "outputs": [],
   "source": [
    "# save the pandas dataframe to a json file\n",
    "df.to_json('data.json')\n",
    "    #json makes more sense for tabular data than yaml,\n",
    "    #but not sure how Dr. Shang feels on the matlab end.\n",
    "\n",
    "# make a dictionary from the dataframe\n",
    "data_dict = df.to_dict()\n",
    "\n",
    "# save a yaml file from the dictionary\n",
    "with open('data.yaml', 'w') as f:\n",
    "    yaml.dump(data_dict, f)\n"
   ]
  },
  {
   "cell_type": "code",
   "execution_count": null,
   "metadata": {},
   "outputs": [],
   "source": [
    "\"\"\"\n",
    "The funciton used above, extract_config_data(), gives magnetic data only\n",
    "for the last ionic step of the OUTCAR file.\n",
    "\n",
    "There is, however, a function that extracts the magnetic data for all ionic steps.\n",
    "change the outcar_path\n",
    "\"\"\"\n",
    "\n",
    "all_magnetic_data = cstdn.extract_mag_data(outcar_path='path/to/OUTCAR')\n",
    "print(all_magnetic_data)"
   ]
  }
 ],
 "metadata": {
  "language_info": {
   "name": "python"
  }
 },
 "nbformat": 4,
 "nbformat_minor": 2
}
